{
 "cells": [
  {
   "cell_type": "code",
   "execution_count": null,
   "id": "f939869b",
   "metadata": {},
   "outputs": [],
   "source": [
    "import numpy as np\n",
    "import pandas as pd\n",
    "\n",
    "import plotly.figure_factory as ff\n",
    "import plotly.express as px\n",
    "from plotly.subplots import make_subplots\n",
    "import plotly.graph_objects as go\n",
    "\n",
    "from sklearn.preprocessing import LabelEncoder\n",
    "from sklearn.cluster import KMeans\n",
    "from sklearn.preprocessing import MinMaxScaler\n",
    "\n",
    "from tqdm import tqdm\n",
    "\n",
    "from sklearn.linear_model import LinearRegression"
   ]
  },
  {
   "cell_type": "code",
   "execution_count": null,
   "id": "d6b3dfef",
   "metadata": {},
   "outputs": [],
   "source": [
    "SINAN_PATH      = './../data/raw_data/SINAN_prep_05.csv'\n",
    "MUNICIPIOS_PATH = './../data/municipios_prep_01.csv'\n",
    "BOLSA_PATH = './../data/consolidada_bolsafamilia.csv'\n",
    "INEP_PATH = './../data/consolidada_inep.csv'\n",
    "ATLAS_PATH = './../data/atlas_desenvolvimento_humano_por_municipio.csv'\n",
    "OCUPACOES_PATH  = './../data/cbo_ocupacoes.csv'\n",
    "MAPBOX_TOKEN    = 'pk.eyJ1IjoibHVjYXNuc2VxIiwiYSI6ImNrb241dHZ0cTBpd2MycW5yMGp2enFtMmkifQ.N6NJGlWhG-iYrIJMQ1MVVw'\n",
    "\n",
    "px.set_mapbox_access_token(MAPBOX_TOKEN)"
   ]
  },
  {
   "cell_type": "code",
   "execution_count": null,
   "id": "77edbe2c",
   "metadata": {},
   "outputs": [],
   "source": [
    "municipios_df = pd.read_csv(MUNICIPIOS_PATH)"
   ]
  },
  {
   "cell_type": "code",
   "execution_count": null,
   "id": "98a3fa05",
   "metadata": {},
   "outputs": [],
   "source": [
    "municipios_df.head()"
   ]
  },
  {
   "cell_type": "code",
   "execution_count": null,
   "id": "033bdcd0",
   "metadata": {},
   "outputs": [],
   "source": [
    "inep_df = pd.read_csv(INEP_PATH)"
   ]
  },
  {
   "cell_type": "code",
   "execution_count": null,
   "id": "611d3d22",
   "metadata": {},
   "outputs": [],
   "source": [
    "inep_df.shape"
   ]
  },
  {
   "cell_type": "code",
   "execution_count": null,
   "id": "aabe1116",
   "metadata": {},
   "outputs": [],
   "source": [
    "inep_df"
   ]
  },
  {
   "cell_type": "code",
   "execution_count": null,
   "id": "d977881a",
   "metadata": {},
   "outputs": [],
   "source": [
    "bolsa_df = pd.read_csv(BOLSA_PATH)"
   ]
  },
  {
   "cell_type": "code",
   "execution_count": null,
   "id": "21cde3bc",
   "metadata": {},
   "outputs": [],
   "source": [
    "bolsa_df.shape"
   ]
  },
  {
   "cell_type": "markdown",
   "id": "0749e08f",
   "metadata": {},
   "source": [
    "## Bolsa colunas:\n",
    "\n",
    "- renda_media_sum\n",
    "- renda_media_mean\n",
    "- renda_media_median\n",
    "- renda_media_std\n",
    "- numero_comodos_sum\n",
    "- numero_comodos_mean\n",
    "- numero_comodos_median\n",
    "- numero_comodos_std\n",
    "- numero_comodos_dorm_sum\n",
    "- numero_comodos_dorm_mean\n",
    "- numero_comodos_dorm_median\n",
    "- numero_comodos_dorm_std\n",
    "\n",
    "- share_agua_canalizada"
   ]
  },
  {
   "cell_type": "code",
   "execution_count": null,
   "id": "2b433808",
   "metadata": {},
   "outputs": [],
   "source": [
    "use_cols = ['renda_media_sum','renda_media_mean','renda_media_median',\n",
    "            'renda_media_std','numero_comodos_sum','numero_comodos_mean',\n",
    "            'numero_comodos_median','numero_comodos_std','numero_comodos_dorm_sum',\n",
    "            'numero_comodos_dorm_mean','numero_comodos_dorm_median','numero_comodos_dorm_std',\n",
    "            'share_agua_canalizada']"
   ]
  },
  {
   "cell_type": "code",
   "execution_count": null,
   "id": "0171b4a5",
   "metadata": {},
   "outputs": [],
   "source": [
    "df       = bolsa_df.set_index('2018_cd_ibge')\n",
    "mun_df   = municipios_df.set_index('id')\n",
    "mun_size = len(mun_df)\n",
    "\n",
    "for cod_mun in tqdm(df.index):\n",
    "    \n",
    "    for year in [2013,2014,2015,2016,2017]:\n",
    "        \n",
    "        for col in use_cols:\n",
    "        \n",
    "            col_name = f'{year}_{col}'\n",
    "            \n",
    "            value = df.loc[cod_mun][col_name]\n",
    "            \n",
    "            col_name = f'{col}_{year}'\n",
    "            \n",
    "            mun_df.at[cod_mun, col_name] = value"
   ]
  },
  {
   "cell_type": "code",
   "execution_count": null,
   "id": "5e39f2cc",
   "metadata": {},
   "outputs": [],
   "source": [
    "inep_df.shape"
   ]
  },
  {
   "cell_type": "code",
   "execution_count": null,
   "id": "6bea253c",
   "metadata": {},
   "outputs": [],
   "source": [
    "inep_df"
   ]
  },
  {
   "cell_type": "code",
   "execution_count": null,
   "id": "9ba86a8f",
   "metadata": {},
   "outputs": [],
   "source": [
    "temp_cols = []\n",
    "icg_group_values = [f'ICG_{num}' for num in range(1, 7)]\n",
    "\n",
    "for col in inep_df.columns:\n",
    "    \n",
    "    for icg in icg_group_values:\n",
    "        \n",
    "        if icg in col:\n",
    "            temp_cols.append(col)\n",
    "\n",
    "select_cols = []\n",
    "for col in temp_cols:\n",
    "    \n",
    "    if inep_df.loc[1, col] == 'Total' and inep_df.loc[2, col] == 'Total':\n",
    "        select_cols.append(col)\n",
    "    \n",
    "\n",
    "cols_map = {}\n",
    "for i, icg_group in enumerate(icg_group_values):\n",
    "    \n",
    "    cols_map[icg_group] = {}\n",
    "    icg_cols = []\n",
    "    for col in select_cols:\n",
    "        if icg_group in col:\n",
    "            icg_cols.append(col)\n",
    "    \n",
    "    for j, year in enumerate([2013, 2014, 2015, 2016, 2017]):\n",
    "        \n",
    "        cols_map[icg_group][year] = icg_cols[j]\n",
    "    \n",
    "cols_map"
   ]
  },
  {
   "cell_type": "code",
   "execution_count": null,
   "id": "f656f0ee",
   "metadata": {},
   "outputs": [],
   "source": [
    "df = inep_df.set_index('COD_MUNICIPIO')\n",
    "\n",
    "icg_group_values = [f'ICG_{num}' for num in range(1, 7)]\n",
    "years = [2013, 2014, 2015, 2016, 2017]\n",
    "\n",
    "for cod_mun in tqdm(df.index):\n",
    "    \n",
    "    if np.isnan(cod_mun): continue\n",
    "\n",
    "    for icg_group in icg_group_values:\n",
    "\n",
    "        for year in [2013, 2014, 2015, 2016, 2017]:\n",
    "\n",
    "            col = cols_map[icg_group][year]\n",
    "            value = df.loc[cod_mun][col]\n",
    "            \n",
    "            col_name = f'{icg_group.lower()}_total_{year}'\n",
    "            \n",
    "            mun_df.at[cod_mun, col_name] = value"
   ]
  },
  {
   "cell_type": "code",
   "execution_count": null,
   "id": "7eaf840e",
   "metadata": {
    "scrolled": true
   },
   "outputs": [],
   "source": [
    "for col in mun_df.reset_index().columns:\n",
    "    print(col)"
   ]
  },
  {
   "cell_type": "code",
   "execution_count": null,
   "id": "68e16ec2",
   "metadata": {},
   "outputs": [],
   "source": []
  },
  {
   "cell_type": "code",
   "execution_count": null,
   "id": "d8054ac1",
   "metadata": {},
   "outputs": [],
   "source": [
    "px.imshow(mun_df.corr(), height = 1000)"
   ]
  },
  {
   "cell_type": "code",
   "execution_count": null,
   "id": "babf1f2b",
   "metadata": {},
   "outputs": [],
   "source": [
    "municipios_df = mun_df.reset_index()"
   ]
  },
  {
   "cell_type": "code",
   "execution_count": null,
   "id": "09774432",
   "metadata": {},
   "outputs": [],
   "source": []
  },
  {
   "cell_type": "code",
   "execution_count": null,
   "id": "0c8ba734",
   "metadata": {},
   "outputs": [],
   "source": [
    "def get_encoder(values):\n",
    "    \n",
    "    encoder = LabelEncoder()\n",
    "    encoded = encoder.fit_transform(values.reshape(-1, 1))\n",
    "    \n",
    "    return encoded, encoder"
   ]
  },
  {
   "cell_type": "code",
   "execution_count": null,
   "id": "88d05082",
   "metadata": {},
   "outputs": [],
   "source": [
    "try:\n",
    "    values_df = municipios_df.drop(columns=['id', 'nome', 'uf_nome', 'uf_id', 'sinan_id', 'latitude', 'longitude', 'cluster', 'cluster_id'])\n",
    "except:\n",
    "    values_df = municipios_df.drop(columns=['id', 'nome', 'uf_nome', 'uf_id', 'sinan_id', 'latitude', 'longitude'])\n",
    "\n",
    "encoders = {}\n",
    "encodeds = {}\n",
    "feature_columns = ['uf', 'regiao']\n",
    "\n",
    "for column in feature_columns:\n",
    "    \n",
    "    encodeds[column], encoders[column] = get_encoder(values_df[column].values)\n",
    "    values_df[f'{column}_ID'] = encodeds[column]\n",
    "\n",
    "values_df.head()\n",
    "\n",
    "values_df = values_df.fillna(-1)"
   ]
  },
  {
   "cell_type": "code",
   "execution_count": null,
   "id": "c539f615",
   "metadata": {},
   "outputs": [],
   "source": [
    "scaler = MinMaxScaler()\n",
    "\n",
    "values = values_df.drop(columns=feature_columns).values\n",
    "scaled_values = scaler.fit_transform(values)\n",
    "\n",
    "# Run the Kmeans algorithm and get the index of data points clusters\n",
    "sse = []\n",
    "n_clusters_list = list(range(1, 10))\n",
    "\n",
    "for n_clusters in n_clusters_list:\n",
    "    km = KMeans(n_clusters=n_clusters)\n",
    "    km.fit(scaled_values)\n",
    "    sse.append(km.inertia_)\n",
    "\n",
    "cluster_eval_df = pd.DataFrame({'n_clusters': n_clusters_list, 'inertia': sse})\n",
    "\n",
    "fig = px.line(\n",
    "    cluster_eval_df,\n",
    "    x='n_clusters', y='inertia', \n",
    "    title='Cluster evaluation')\n",
    "\n",
    "fig.show()  "
   ]
  },
  {
   "cell_type": "code",
   "execution_count": null,
   "id": "31054338",
   "metadata": {},
   "outputs": [],
   "source": [
    "clusterizer = KMeans(n_clusters = 3)\n",
    "scaler = MinMaxScaler()\n",
    "\n",
    "values = values_df.drop(columns=feature_columns).values\n",
    "scaled_values = scaler.fit_transform(values)\n",
    "\n",
    "clusterizer = clusterizer.fit(scaled_values)\n",
    "\n",
    "municipios_df['cluster'] = clusterizer.predict(scaled_values)\n",
    "municipios_df['cluster_id'] = municipios_df['cluster'].apply(lambda x : f'cluster_{x}')"
   ]
  },
  {
   "cell_type": "code",
   "execution_count": null,
   "id": "88076cef",
   "metadata": {},
   "outputs": [],
   "source": []
  },
  {
   "cell_type": "code",
   "execution_count": null,
   "id": "c2b55de8",
   "metadata": {},
   "outputs": [],
   "source": []
  },
  {
   "cell_type": "code",
   "execution_count": null,
   "id": "86869279",
   "metadata": {},
   "outputs": [],
   "source": []
  },
  {
   "cell_type": "code",
   "execution_count": null,
   "id": "5f8bccc6",
   "metadata": {},
   "outputs": [],
   "source": []
  },
  {
   "cell_type": "code",
   "execution_count": null,
   "id": "4c87f8eb",
   "metadata": {},
   "outputs": [],
   "source": [
    "keep_columns   = list(municipios_df.columns)\n",
    "remove_columns = ['id','nome','uf_nome','uf_id','uf','regiao','latitude','longitude', 'sinan_id', 'cluster', 'cluster_id']\n",
    "\n",
    "for c in remove_columns:\n",
    "    try:\n",
    "        keep_columns.remove(c)\n",
    "    except:\n",
    "        continue\n",
    "    "
   ]
  },
  {
   "cell_type": "code",
   "execution_count": null,
   "id": "c046c602",
   "metadata": {},
   "outputs": [],
   "source": [
    "df    = pd.DataFrame()\n",
    "years = [2013, 2014, 2015, 2016, 2017]\n",
    "num_years = len(years)\n",
    "\n",
    "for index in tqdm(municipios_df.index):\n",
    "    \n",
    "    mun_data = municipios_df.loc[index]\n",
    "    \n",
    "    temp_df = pd.DataFrame()\n",
    "    \n",
    "    temp_df['year'] = years\n",
    "    \n",
    "    for col in remove_columns:\n",
    "        temp_df[col]   = [mun_data[col]] * num_years\n",
    "    \n",
    "    for col in keep_columns:\n",
    "        \n",
    "        col = col.split('_201')[0]\n",
    "        \n",
    "        values = []\n",
    "        \n",
    "        for year in years:\n",
    "\n",
    "            col_name = f'{col}_{year}'\n",
    "            \n",
    "            value = mun_data[col_name]\n",
    "            values.append(value)\n",
    "            \n",
    "        temp_df[col] = values\n",
    "        \n",
    "    df = pd.concat((df, temp_df))    "
   ]
  },
  {
   "cell_type": "code",
   "execution_count": null,
   "id": "edc67216",
   "metadata": {},
   "outputs": [],
   "source": [
    "keep_columns"
   ]
  },
  {
   "cell_type": "code",
   "execution_count": null,
   "id": "cef87b41",
   "metadata": {},
   "outputs": [],
   "source": [
    "fig = px.scatter_matrix(df,\n",
    "    dimensions=[\"icg_2_total\", \"icg_4_total\", 'icg_6_total', 'renda_media_mean', 'numero_comodos_dorm_mean', 'unit_relat', 'denun_relat', 'year'],\n",
    "    color=\"cluster_id\", height=1000)\n",
    "fig.show()"
   ]
  },
  {
   "cell_type": "code",
   "execution_count": null,
   "id": "22517239",
   "metadata": {},
   "outputs": [],
   "source": [
    "municipios_df.head()"
   ]
  },
  {
   "cell_type": "code",
   "execution_count": null,
   "id": "5b49e158",
   "metadata": {},
   "outputs": [],
   "source": [
    "regressor = LinearRegression()"
   ]
  },
  {
   "cell_type": "code",
   "execution_count": null,
   "id": "6e4c47f3",
   "metadata": {},
   "outputs": [],
   "source": [
    "try:\n",
    "    values_df = municipios_df.drop(columns=['id', 'nome', 'uf_nome', 'uf_id', 'sinan_id', 'cluster_id'])\n",
    "except:\n",
    "    values_df = municipios_df.drop(columns=['id', 'nome', 'uf_nome', 'uf_id', 'sinan_id'])\n",
    "\n",
    "encoders = {}\n",
    "encodeds = {}\n",
    "feature_columns = ['uf', 'regiao']\n",
    "\n",
    "for column in feature_columns:\n",
    "    \n",
    "    encodeds[column], encoders[column] = get_encoder(values_df[column].values)\n",
    "    values_df[f'{column}_ID'] = encodeds[column]\n",
    "\n",
    "values_df.head()\n",
    "\n",
    "values_df = values_df.fillna(-1)\n",
    "values_df = values_df.drop(['uf', 'regiao'], axis = 1)\n",
    "\n",
    "remove_cols = []\n",
    "for col in values_df.columns:\n",
    "    if '2017' in col:\n",
    "        remove_cols.append(col)\n",
    "        \n",
    "X_df = values_df.drop(remove_cols, axis=1)\n",
    "Y_df = values_df['denun_count_2017']\n",
    "\n",
    "values_X = X_df.values\n",
    "values_Y = Y_df.values.reshape(-1, 1)\n",
    "\n",
    "scaler_x      = MinMaxScaler()\n",
    "scaler_y      = MinMaxScaler()\n",
    "\n",
    "scaled_X = scaler_x.fit_transform(X_df.values)\n",
    "scaled_Y = scaler_y.fit_transform(Y_df.values.reshape(-1, 1))"
   ]
  },
  {
   "cell_type": "code",
   "execution_count": null,
   "id": "895a6d14",
   "metadata": {},
   "outputs": [],
   "source": [
    "px.histogram(values_df['denun_count_2017'])"
   ]
  },
  {
   "cell_type": "code",
   "execution_count": null,
   "id": "b0e25d55",
   "metadata": {},
   "outputs": [],
   "source": [
    "px.histogram(values_df['denun_relat_2017'])"
   ]
  },
  {
   "cell_type": "code",
   "execution_count": null,
   "id": "176c50f1",
   "metadata": {},
   "outputs": [],
   "source": [
    "regressor = LinearRegression()\n",
    "\n",
    "regressor = regressor.fit(values_X, values_Y)\n",
    "regressor.score(values_X, values_Y)"
   ]
  },
  {
   "cell_type": "code",
   "execution_count": null,
   "id": "8c8b8c4d",
   "metadata": {},
   "outputs": [],
   "source": [
    "predictions_df = pd.DataFrame()\n",
    "\n",
    "predictions_df['prediction'] = regressor.predict(values_X).reshape(-1,)\n",
    "predictions_df['real']       = values_Y.reshape(-1,)\n",
    "predictions_df['abs_diff']   = np.abs(predictions_df['prediction'] - predictions_df['real'])\n",
    "predictions_df['nome']       = municipios_df['nome']\n",
    "predictions_df['uf']         = municipios_df['uf']\n",
    "predictions_df['regiao']     = municipios_df['regiao']\n",
    "\n",
    "fig = px.scatter(predictions_df, x='prediction', y='real', color=\"abs_diff\", \n",
    "                 hover_data=['nome', 'uf', 'regiao', 'abs_diff'])\n",
    "fig.add_trace(go.Line(x=np.linspace(0,0.025), y=np.linspace(0,0.025)))\n",
    "\n",
    "fig.show()"
   ]
  },
  {
   "cell_type": "code",
   "execution_count": null,
   "id": "60e2e69b",
   "metadata": {},
   "outputs": [],
   "source": [
    "coef_df = pd.DataFrame()\n",
    "\n",
    "\n",
    "coef_names  = ['bias'] + list(X_df.columns)\n",
    "coef_values = [regressor.intercept_[0]] + list(regressor.coef_.reshape(-1,))\n",
    "\n",
    "coef_df['name']  = coef_names\n",
    "coef_df['value'] = coef_values\n",
    "\n",
    "px.scatter(coef_df, x='name', y='value', color=\"value\", width = 2500)"
   ]
  },
  {
   "cell_type": "code",
   "execution_count": null,
   "id": "877f2ea7",
   "metadata": {},
   "outputs": [],
   "source": []
  }
 ],
 "metadata": {
  "kernelspec": {
   "display_name": "Python 3",
   "language": "python",
   "name": "python3"
  },
  "language_info": {
   "codemirror_mode": {
    "name": "ipython",
    "version": 3
   },
   "file_extension": ".py",
   "mimetype": "text/x-python",
   "name": "python",
   "nbconvert_exporter": "python",
   "pygments_lexer": "ipython3",
   "version": "3.8.8"
  }
 },
 "nbformat": 4,
 "nbformat_minor": 5
}
