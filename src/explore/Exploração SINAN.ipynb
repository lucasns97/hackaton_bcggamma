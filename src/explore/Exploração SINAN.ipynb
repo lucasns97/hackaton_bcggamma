{
 "cells": [
  {
   "cell_type": "code",
   "execution_count": null,
   "id": "5e77ac10",
   "metadata": {},
   "outputs": [],
   "source": [
    "import numpy as np\n",
    "import pandas as pd\n",
    "\n",
    "import plotly.figure_factory as ff\n",
    "import plotly.express as px\n",
    "from plotly.subplots import make_subplots\n",
    "import plotly.graph_objects as go\n",
    "\n",
    "from sklearn.preprocessing import LabelEncoder\n",
    "from sklearn.cluster import KMeans\n",
    "from sklearn.preprocessing import MinMaxScaler\n",
    "\n",
    "from tqdm import tqdm"
   ]
  },
  {
   "cell_type": "code",
   "execution_count": null,
   "id": "773c0ab5",
   "metadata": {},
   "outputs": [],
   "source": []
  },
  {
   "cell_type": "code",
   "execution_count": null,
   "id": "4687e960",
   "metadata": {},
   "outputs": [],
   "source": [
    "SINAN_PATH      = './../data/raw_data/SINAN_prep_05.csv'\n",
    "MUNICIPIOS_PATH = './../data/municipios.csv'\n",
    "OCUPACOES_PATH  = './../data/cbo_ocupacoes.csv'\n",
    "MAPBOX_TOKEN    = 'pk.eyJ1IjoibHVjYXNuc2VxIiwiYSI6ImNrb241dHZ0cTBpd2MycW5yMGp2enFtMmkifQ.N6NJGlWhG-iYrIJMQ1MVVw'\n",
    "\n",
    "px.set_mapbox_access_token(MAPBOX_TOKEN)"
   ]
  },
  {
   "cell_type": "code",
   "execution_count": null,
   "id": "099c9e9e",
   "metadata": {},
   "outputs": [],
   "source": []
  },
  {
   "cell_type": "code",
   "execution_count": null,
   "id": "9bcf8886",
   "metadata": {},
   "outputs": [],
   "source": [
    "SINAN_COLS = [\n",
    "    'VIOLENCE', 'AGRESSOR', 'MUN_NOME', 'MUN_UF', 'MUN_LATITUDE', \n",
    "    'MUN_LONGITUDE', 'MUN_ID', 'MUN_POP_2013', 'MUN_POP_2014', \n",
    "    'MUN_POP_2015', 'MUN_POP_2016', 'MUN_POP_2017', 'DT_YEAR',\n",
    "    'DT_MONTH', 'DT_DAY', 'AGE', 'ESCOLARIDADE', 'CBO_OCUPACAO',\n",
    "    'CBO_FAMILIA', 'CBO_GRUPO','CS_RACA',\n",
    "    'CS_SEXO', 'DT_NASC', 'DT_NOTIFIC', 'SIT_CONJUG', 'VIOL_MOTIV',\n",
    "    'IDENT_GEN', 'ORIENT_SEX','ID_UNIDADE'\n",
    "    ]\n",
    "\n",
    "sinan_df      = pd.read_csv(SINAN_PATH, usecols=SINAN_COLS)\n",
    "# sinan_df      = pd.read_csv(SINAN_PATH)\n",
    "municipios_df = pd.read_csv(MUNICIPIOS_PATH)"
   ]
  },
  {
   "cell_type": "code",
   "execution_count": null,
   "id": "bf92bfe4",
   "metadata": {},
   "outputs": [],
   "source": [
    "municipios_df.head(3)"
   ]
  },
  {
   "cell_type": "code",
   "execution_count": null,
   "id": "672f3da9",
   "metadata": {},
   "outputs": [],
   "source": [
    "fig = ff.create_hexbin_mapbox(\n",
    "    data_frame=municipios_df, lat=\"latitude\", lon=\"longitude\",\n",
    "    nx_hexagon=45, opacity=0.5, labels={\"color\": \"Municípios\"},\n",
    "    min_count=1,\n",
    ")\n",
    "fig.show()"
   ]
  },
  {
   "cell_type": "code",
   "execution_count": null,
   "id": "e1116e77",
   "metadata": {},
   "outputs": [],
   "source": [
    "sinan_df.head(3)"
   ]
  },
  {
   "cell_type": "code",
   "execution_count": null,
   "id": "6a8a55c0",
   "metadata": {},
   "outputs": [],
   "source": [
    "def filter_by_list(dataframe, column, values):\n",
    "    \n",
    "    new_dataframe = dataframe[dataframe[column].isin(values)]\n",
    "    \n",
    "    return new_dataframe\n",
    "\n",
    "def sinan_filtros(dataframe, UF = None):\n",
    "    \n",
    "    # UF\n",
    "    if UF:\n",
    "        new_dataframe = filter_by_list(dataframe, 'MUN_UF', [UF])\n",
    "    else:\n",
    "        new_dataframe = dataframe\n",
    "    \n",
    "    # VIOLENCE\n",
    "    violence_list = ['Física', 'Psicológica', 'Sexual']\n",
    "    \n",
    "    new_dataframe = filter_by_list(new_dataframe, 'VIOLENCE', violence_list)\n",
    "    \n",
    "    # AGRESSOR\n",
    "    agressor_list = ['Pai', 'Mãe', 'Padrasto', 'Cônjuge', \n",
    "                     'Ex-cônjuge', 'Namorado/a', 'Ex-namorado/a', \n",
    "                     'Filho/a','Irmão/ã', 'Amigo/a', 'Madrasta']\n",
    "    \n",
    "    new_dataframe = filter_by_list(new_dataframe, 'AGRESSOR', agressor_list)\n",
    "    \n",
    "    # SEXO\n",
    "    \n",
    "    sexo = \"F\"\n",
    "    \n",
    "    new_dataframe = new_dataframe[new_dataframe['CS_SEXO'] == 'F']\n",
    "    \n",
    "    \n",
    "    \n",
    "    return new_dataframe"
   ]
  },
  {
   "cell_type": "code",
   "execution_count": null,
   "id": "938630fc",
   "metadata": {},
   "outputs": [],
   "source": [
    "%%time\n",
    "\n",
    "sinan_df_selected = sinan_filtros(sinan_df)\n",
    "sinan_df_selected.shape"
   ]
  },
  {
   "cell_type": "code",
   "execution_count": null,
   "id": "74f5a2f8",
   "metadata": {},
   "outputs": [],
   "source": [
    "fig = ff.create_hexbin_mapbox(\n",
    "    data_frame=sinan_df, lat=\"MUN_LATITUDE\", lon=\"MUN_LONGITUDE\",\n",
    "    nx_hexagon=45, opacity=0.5, labels={\"color\": \"Denúncias\"},\n",
    "    min_count=1,\n",
    ")\n",
    "fig.show()"
   ]
  },
  {
   "cell_type": "code",
   "execution_count": null,
   "id": "f4b04b11",
   "metadata": {},
   "outputs": [],
   "source": [
    "fig = make_subplots(rows=4, cols=2, subplot_titles=(\"Violência\", \"Agressor\", \"Raça\", \"Sexo\", \"Motivo da violência\", \"Situação conjugal\", \"\", \"Idade\"))\n",
    "\n",
    "fig.add_trace(\n",
    "    go.Histogram(x=sinan_df_selected['VIOLENCE']),\n",
    "    row=1, col=1\n",
    ")\n",
    "\n",
    "fig.add_trace(\n",
    "    go.Histogram(x=sinan_df_selected['AGRESSOR']),\n",
    "    row=1, col=2\n",
    ")\n",
    "\n",
    "fig.add_trace(\n",
    "    go.Histogram(x=sinan_df_selected['CS_RACA']),\n",
    "    row=2, col=1\n",
    ")\n",
    "\n",
    "fig.add_trace(\n",
    "    go.Histogram(x=sinan_df_selected['CS_SEXO']),\n",
    "    row=2, col=2\n",
    ")\n",
    "\n",
    "fig.add_trace(\n",
    "    go.Histogram(x=sinan_df_selected['VIOL_MOTIV']),\n",
    "    row=3, col=1\n",
    ")\n",
    "\n",
    "fig.add_trace(\n",
    "    go.Histogram(x=sinan_df_selected['SIT_CONJUG']),\n",
    "    row=3, col=2\n",
    ")\n",
    "\n",
    "fig.add_trace(\n",
    "    go.Histogram(x=sinan_df_selected['AGE']),\n",
    "    row=4, col=2\n",
    ")\n",
    "\n",
    "\n",
    "fig.update_layout(height=1500, width=800, title_text=\"Distribuições no Brasil\")\n",
    "fig.update_xaxes(categoryorder=\"total descending\")\n",
    "fig.show()"
   ]
  },
  {
   "cell_type": "code",
   "execution_count": null,
   "id": "bee82e66",
   "metadata": {},
   "outputs": [],
   "source": [
    "fig = px.histogram(sinan_df_selected, color=\"AGRESSOR\", x=\"AGE\", title=f'Distribuição denúncias por idade/agressor')\n",
    "fig.show()"
   ]
  },
  {
   "cell_type": "code",
   "execution_count": null,
   "id": "cc6de5c2",
   "metadata": {},
   "outputs": [],
   "source": [
    "df = sinan_df_selected.drop(sinan_df_selected[sinan_df_selected.SIT_CONJUG.isna()].index)\n",
    "\n",
    "fig = px.histogram(df, color=\"SIT_CONJUG\", x=\"AGE\", title=f'Distribuição denúncias por idade/sit. conjugal')\n",
    "fig.show()"
   ]
  },
  {
   "cell_type": "code",
   "execution_count": null,
   "id": "e8869306",
   "metadata": {},
   "outputs": [],
   "source": [
    "df = sinan_df_selected.drop(sinan_df_selected[sinan_df_selected.SIT_CONJUG.isna()].index)\n",
    "\n",
    "fig = px.histogram(df, color=\"SIT_CONJUG\", x=\"ESCOLARIDADE\", title=f'Distribuição de nível de escolaridade',\n",
    "                  category_orders = {'ESCOLARIDADE': ['EF I incompleto','EF I completo','EF II incompleto',\n",
    "                                                      'EF II completo','EM incompleto','EM completo',\n",
    "                                                      'ES incompleto','ES completo',]})\n",
    "fig.show()"
   ]
  },
  {
   "cell_type": "code",
   "execution_count": null,
   "id": "80eea117",
   "metadata": {},
   "outputs": [],
   "source": [
    "fig = px.histogram(sinan_df_selected, color=\"CS_SEXO\", x=\"ESCOLARIDADE\", title=f'Distribuição de nível de escolaridade',\n",
    "                  category_orders = {'ESCOLARIDADE': ['EF I incompleto','EF I completo','EF II incompleto',\n",
    "                                                      'EF II completo','EM incompleto','EM completo',\n",
    "                                                      'ES incompleto','ES completo',]})\n",
    "fig.show()"
   ]
  },
  {
   "cell_type": "code",
   "execution_count": null,
   "id": "1ec4535e",
   "metadata": {
    "scrolled": true
   },
   "outputs": [],
   "source": [
    "fig = px.histogram(sinan_df_selected, \n",
    "                   y=\"CBO_FAMILIA\", \n",
    "                   color=\"AGRESSOR\", \n",
    "                   title=f'Distribuição de família de ocupação',\n",
    "                   height=8000\n",
    "                    ).update_yaxes(categoryorder=\"total ascending\")\n",
    "                  \n",
    "fig.show()"
   ]
  },
  {
   "cell_type": "code",
   "execution_count": null,
   "id": "1cb85504",
   "metadata": {},
   "outputs": [],
   "source": [
    "fig = px.histogram(sinan_df_selected, \n",
    "                   y=\"CBO_GRUPO\", \n",
    "                   color=\"AGRESSOR\", \n",
    "                   title=f'Distribuição de grupos de ocupação').update_yaxes(categoryorder=\"total ascending\")\n",
    "                  \n",
    "fig.show()"
   ]
  },
  {
   "cell_type": "code",
   "execution_count": null,
   "id": "32d1cba2",
   "metadata": {},
   "outputs": [],
   "source": [
    "def get_encoder(values):\n",
    "    \n",
    "    encoder = LabelEncoder()\n",
    "    encoded = encoder.fit_transform(values.reshape(-1, 1))\n",
    "    \n",
    "    return encoded, encoder"
   ]
  },
  {
   "cell_type": "code",
   "execution_count": null,
   "id": "4e98f36c",
   "metadata": {},
   "outputs": [],
   "source": [
    "columns         = ['ESCOLARIDADE', 'DT_YEAR', 'DT_MONTH', 'AGE', \n",
    "                   'CS_RACA', 'VIOLENCE', 'AGRESSOR', 'CBO_GRUPO', \n",
    "                   'CBO_FAMILIA', 'CBO_OCUPACAO', 'SIT_CONJUG', 'VIOL_MOTIV',\n",
    "                    'IDENT_GEN', 'ORIENT_SEX']\n",
    "\n",
    "feature_columns = columns[4:]\n",
    "\n",
    "df = sinan_df_selected[columns]\n",
    "df = df.dropna()\n",
    "\n",
    "encoders = {}\n",
    "encodeds = {}\n",
    "for column in feature_columns:\n",
    "    \n",
    "    encodeds[column], encoders[column] = get_encoder(df[column].values)\n",
    "    df[f'{column}_ID'] = encodeds[column]\n",
    "\n",
    "\n",
    "escolaridade_map = {\n",
    "    'EM completo': 6, \n",
    "    'EF II completo': 4, \n",
    "    'EF II incompleto': 3,\n",
    "    'EM incompleto': 5, \n",
    "    'ES completo': 8, \n",
    "    'ES incompleto': 7, \n",
    "    'EF I incompleto': 1,\n",
    "    'EF I completo': 2\n",
    "}\n",
    "\n",
    "def g(val):\n",
    "    \n",
    "    try: return escolaridade_map[val]\n",
    "    except: return None\n",
    "\n",
    "    \n",
    "df['ESCOLARIDADE_ID'] = df['ESCOLARIDADE'].apply(g)\n",
    "df = df.dropna()"
   ]
  },
  {
   "cell_type": "code",
   "execution_count": null,
   "id": "2a9a8226",
   "metadata": {},
   "outputs": [],
   "source": [
    "df.head(2).T"
   ]
  },
  {
   "cell_type": "code",
   "execution_count": null,
   "id": "70879d89",
   "metadata": {},
   "outputs": [],
   "source": [
    "columns = ['ESCOLARIDADE_ID', 'DT_YEAR', 'DT_MONTH', 'AGE', 'CS_RACA_ID', \n",
    "           'VIOLENCE_ID', 'AGRESSOR_ID', 'CBO_GRUPO_ID', 'CBO_FAMILIA_ID', 'CBO_OCUPACAO_ID',\n",
    "           'SIT_CONJUG_ID', 'VIOL_MOTIV_ID', 'IDENT_GEN_ID', 'ORIENT_SEX_ID']\n",
    "\n",
    "\n",
    "fig = px.imshow(df[columns].corr())\n",
    "fig.show()"
   ]
  },
  {
   "cell_type": "code",
   "execution_count": null,
   "id": "62556b01",
   "metadata": {},
   "outputs": [],
   "source": [
    "map_month = {\n",
    "    1: 'Janeiro',\n",
    "    2: 'Fevereiro',\n",
    "    3: 'Março',\n",
    "    4: 'Abril',\n",
    "    5: 'Maio',\n",
    "    6: 'Junho',\n",
    "    7: 'Julho',\n",
    "    8: 'Agosto',\n",
    "    9: 'Setembro',\n",
    "    10: 'Outubro',\n",
    "    11: 'Novembro',\n",
    "    12: 'Dezembro',\n",
    "}\n",
    "\n",
    "df = pd.DataFrame()\n",
    "\n",
    "for year in [2013., 2014., 2015., 2016., 2017.]:\n",
    "    \n",
    "    temp = sinan_df_selected[sinan_df_selected['DT_YEAR'] == year]\n",
    "\n",
    "    temp = temp.groupby('DT_MONTH').count().reset_index()\n",
    "\n",
    "    temp['MONTH'] = temp['DT_MONTH'].apply(lambda x : map_month[x])\n",
    "    temp['COUNT'] = temp['AGE']\n",
    "    \n",
    "    temp = temp[['MONTH', 'COUNT', 'DT_MONTH']]\n",
    "    temp['YEAR'] = [year]*len(temp)\n",
    "    \n",
    "    df = pd.concat([df, temp])\n",
    "\n",
    "fig = px.scatter(df, \n",
    "                 x=\"MONTH\", y=\"YEAR\", color=\"COUNT\", size=\"COUNT\", \n",
    "                 title=\"Casos por ano/mês no Brasil\", \n",
    "                 color_continuous_scale='plotly3')\n",
    "\n",
    "fig.show()"
   ]
  },
  {
   "cell_type": "code",
   "execution_count": null,
   "id": "d94687db",
   "metadata": {},
   "outputs": [],
   "source": [
    "municipios_df.head()"
   ]
  },
  {
   "cell_type": "code",
   "execution_count": null,
   "id": "b6e9c17f",
   "metadata": {},
   "outputs": [],
   "source": [
    "sinan_df['AGRESSOR'].unique()"
   ]
  },
  {
   "cell_type": "code",
   "execution_count": null,
   "id": "1854d618",
   "metadata": {},
   "outputs": [],
   "source": [
    "for year in tqdm([2013, 2014, 2015, 2016, 2017]):\n",
    "    \n",
    "    denun_count_values = []\n",
    "    unit_count_values  = []\n",
    "    denun_sex_count_values  = []\n",
    "    denun_maior_count_values  = []\n",
    "    denun_relacao_count_values  = []\n",
    "\n",
    "    for mun_id in municipios_df.id.values:\n",
    "\n",
    "        mun_data = sinan_df_selected[sinan_df_selected['MUN_ID'] == mun_id]\n",
    "        mun_data = mun_data[mun_data['DT_YEAR'] == year]\n",
    "\n",
    "        count_unidades      = mun_data.ID_UNIDADE.nunique()\n",
    "        count_denuncias     = len(mun_data)\n",
    "        count_denun_sexismo = len(mun_data[mun_data['VIOL_MOTIV'] == 'Sexismo'])\n",
    "        count_denun_maioridade = len(mun_data[mun_data['AGE'] >= 18])\n",
    "        count_denun_relacao = len(filter_by_list(mun_data, 'AGRESSOR', ['Namorado/a', 'Cônjuge', 'Ex-cônjuge', 'Ex-namorado/a']))\n",
    "        \n",
    "        unit_count_values.append(count_unidades)\n",
    "        denun_count_values.append(count_denuncias)\n",
    "        denun_sex_count_values.append(count_denun_sexismo)\n",
    "        denun_maior_count_values.append(count_denun_maioridade)\n",
    "        denun_relacao_count_values.append(count_denun_relacao)\n",
    "    \n",
    "    municipios_df[f'unit_count_{year}'] = unit_count_values\n",
    "    municipios_df[f'unit_relat_{year}'] = municipios_df[f'unit_count_{year}']/municipios_df[f'pop_{year}']\n",
    "    municipios_df[f'denun_count_{year}'] = denun_count_values\n",
    "    municipios_df[f'denun_relat_{year}'] = municipios_df[f'denun_count_{year}']/municipios_df[f'pop_{year}']\n",
    "    municipios_df[f'denun_sexismo_count_{year}'] = denun_sex_count_values\n",
    "    municipios_df[f'denun_sexismo_relat_{year}'] = municipios_df[f'denun_sexismo_count_{year}']/municipios_df[f'pop_{year}']\n",
    "    municipios_df[f'denun_maioridade_count_{year}'] = denun_maior_count_values\n",
    "    municipios_df[f'denun_maioridade_relat_{year}'] = municipios_df[f'denun_maioridade_count_{year}']/municipios_df[f'pop_{year}']\n",
    "    municipios_df[f'denun_relacao_count_{year}'] = denun_relacao_count_values\n",
    "    municipios_df[f'denun_relacao_relat_{year}'] = municipios_df[f'denun_relacao_count_{year}']/municipios_df[f'pop_{year}']\n",
    "\n",
    "municipios_df.head()"
   ]
  },
  {
   "cell_type": "code",
   "execution_count": null,
   "id": "e940125c",
   "metadata": {},
   "outputs": [],
   "source": [
    "municipios_df[municipios_df['nome'] == 'São Paulo']"
   ]
  },
  {
   "cell_type": "code",
   "execution_count": null,
   "id": "68280c15",
   "metadata": {},
   "outputs": [],
   "source": [
    "municipios_df.sample(3)"
   ]
  },
  {
   "cell_type": "code",
   "execution_count": null,
   "id": "b75323c9",
   "metadata": {},
   "outputs": [],
   "source": [
    "municipios_df.columns"
   ]
  },
  {
   "cell_type": "code",
   "execution_count": null,
   "id": "bf8e687c",
   "metadata": {},
   "outputs": [],
   "source": [
    "try:\n",
    "    values_df = municipios_df.drop(columns=['id', 'nome', 'uf_nome', 'uf_id', 'sinan_id', 'latitude', 'longitude', 'cluster', 'cluster_id'])\n",
    "except:\n",
    "    values_df = municipios_df.drop(columns=['id', 'nome', 'uf_nome', 'uf_id', 'sinan_id', 'latitude', 'longitude'])\n",
    "\n",
    "encoders = {}\n",
    "encodeds = {}\n",
    "feature_columns = ['uf', 'regiao']\n",
    "\n",
    "for column in feature_columns:\n",
    "    \n",
    "    encodeds[column], encoders[column] = get_encoder(values_df[column].values)\n",
    "    values_df[f'{column}_ID'] = encodeds[column]\n",
    "\n",
    "values_df.head()"
   ]
  },
  {
   "cell_type": "code",
   "execution_count": null,
   "id": "eebd9775",
   "metadata": {},
   "outputs": [],
   "source": [
    "scaler = MinMaxScaler()\n",
    "\n",
    "values = values_df.drop(columns=feature_columns).values\n",
    "scaled_values = scaler.fit_transform(values)\n",
    "\n",
    "# Run the Kmeans algorithm and get the index of data points clusters\n",
    "sse = []\n",
    "n_clusters_list = list(range(1, 10))\n",
    "\n",
    "for n_clusters in n_clusters_list:\n",
    "    km = KMeans(n_clusters=n_clusters)\n",
    "    km.fit(scaled_values)\n",
    "    sse.append(km.inertia_)\n",
    "\n",
    "cluster_eval_df = pd.DataFrame({'n_clusters': n_clusters_list, 'inertia': sse})\n",
    "\n",
    "fig = px.line(\n",
    "    cluster_eval_df,\n",
    "    x='n_clusters', y='inertia', \n",
    "    title='Cluster evaluation')\n",
    "\n",
    "fig.show()  "
   ]
  },
  {
   "cell_type": "code",
   "execution_count": null,
   "id": "1d0e56a6",
   "metadata": {},
   "outputs": [],
   "source": [
    "clusterizer = KMeans(n_clusters = 3)\n",
    "scaler = MinMaxScaler()\n",
    "\n",
    "values = values_df.drop(columns=feature_columns).values\n",
    "scaled_values = scaler.fit_transform(values)\n",
    "\n",
    "clusterizer = clusterizer.fit(scaled_values)\n",
    "\n",
    "municipios_df['cluster'] = clusterizer.predict(scaled_values)\n",
    "municipios_df['cluster_id'] = municipios_df['cluster'].apply(lambda x : f'cluster_{x}')"
   ]
  },
  {
   "cell_type": "code",
   "execution_count": null,
   "id": "be992763",
   "metadata": {},
   "outputs": [],
   "source": [
    "fig = px.imshow(municipios_df.corr(), height=700)\n",
    "fig.show()"
   ]
  },
  {
   "cell_type": "code",
   "execution_count": null,
   "id": "8adbbe9c",
   "metadata": {},
   "outputs": [],
   "source": [
    "df    = pd.DataFrame()\n",
    "years = [2013, 2014, 2015, 2016, 2017]\n",
    "num_years = len(years)\n",
    "\n",
    "for index in tqdm(municipios_df.index):\n",
    "    \n",
    "    mun_data = municipios_df.loc[index]\n",
    "    \n",
    "    columns = ['unit_count', 'unit_relat', 'denun_count', 'denun_relat', 'pop']\n",
    "    \n",
    "    temp_df = pd.DataFrame()\n",
    "    temp_df['year'] = years\n",
    "    temp_df['id']   = [mun_data.id] * num_years\n",
    "    temp_df['cluster_id']   = [mun_data.cluster_id] * num_years\n",
    "    temp_df['cluster']   = [mun_data.cluster] * num_years\n",
    "    temp_df['nome'] = [mun_data.nome] * num_years\n",
    "    temp_df['uf']   = [mun_data.uf] * num_years\n",
    "    temp_df['regiao']   = [mun_data.regiao] * num_years\n",
    "    \n",
    "    for col in columns:\n",
    "        \n",
    "        values = []\n",
    "        \n",
    "        for year in years:\n",
    "\n",
    "            col_name = f'{col}_{year}'\n",
    "            \n",
    "            value = mun_data[col_name]\n",
    "            values.append(value)\n",
    "            \n",
    "        temp_df[col] = values\n",
    "        \n",
    "    df = pd.concat((df, temp_df))    "
   ]
  },
  {
   "cell_type": "code",
   "execution_count": null,
   "id": "5ebb9c18",
   "metadata": {},
   "outputs": [],
   "source": [
    "df.head()"
   ]
  },
  {
   "cell_type": "code",
   "execution_count": null,
   "id": "b23f02c8",
   "metadata": {},
   "outputs": [],
   "source": [
    "fig = px.scatter_matrix(df,\n",
    "    dimensions=[\"unit_count\", \"unit_relat\", \"denun_count\", \"denun_relat\", 'pop', 'year', 'cluster'],\n",
    "    color=\"cluster_id\", height=1000)\n",
    "fig.show()"
   ]
  },
  {
   "cell_type": "code",
   "execution_count": null,
   "id": "a4687e44",
   "metadata": {},
   "outputs": [],
   "source": [
    "fig = px.scatter(\n",
    "    df[df['pop'] > 30000], \n",
    "    x=\"unit_relat\", y=\"denun_relat\", color=\"cluster_id\", \n",
    "    title='Unidades x Denuncias | Cluster',\n",
    "    hover_data=['year', 'nome', 'uf'], range_x=[0, 0.0015], range_y=[0, 0.020])\n",
    "\n",
    "fig.show()  "
   ]
  },
  {
   "cell_type": "code",
   "execution_count": null,
   "id": "a4efa715",
   "metadata": {},
   "outputs": [],
   "source": [
    "fig = px.scatter(\n",
    "    df, \n",
    "    x=\"unit_relat\", y=\"denun_relat\", color=\"regiao\", \n",
    "    title='Unidades x Denuncias',\n",
    "    hover_data=['year', 'nome', 'uf', 'pop'], range_x=[0, 0.0015], range_y=[0, 0.020])\n",
    "\n",
    "fig.show()  "
   ]
  },
  {
   "cell_type": "code",
   "execution_count": null,
   "id": "17e447e2",
   "metadata": {
    "scrolled": false
   },
   "outputs": [],
   "source": [
    "capitals = ['Rio Branco','Maceió','Macapá','Manaus','Salvador',\n",
    "            'Fortaleza','Brasília','Vitória','Goiânia','São Luís',\n",
    "            'Cuiabá','Campo Grande','Belo Horizonte','Belém','João Pessoa',\n",
    "            'Curitiba','Recife','Teresina','Rio de Janeiro','Natal',\n",
    "            'Porto Alegre','Porto Velho','Boa Vista','Florianópolis',\n",
    "            'São Paulo','Aracaju','Palmas']\n",
    "\n",
    "capitals_df = filter_by_list(df, 'nome', capitals)\n",
    "\n",
    "fig = px.scatter(\n",
    "    capitals_df, \n",
    "    x=\"unit_relat\", y=\"denun_relat\", color=\"cluster_id\", size=\"pop\",\n",
    "    title='Unidades x Denuncias',\n",
    "    hover_data=['year', 'uf', 'nome'])\n",
    "\n",
    "fig.show()  "
   ]
  },
  {
   "cell_type": "code",
   "execution_count": null,
   "id": "3cc9e18f",
   "metadata": {},
   "outputs": [],
   "source": [
    "px.imshow(capitals_df.corr())"
   ]
  },
  {
   "cell_type": "code",
   "execution_count": null,
   "id": "f9d9cfa2",
   "metadata": {},
   "outputs": [],
   "source": []
  },
  {
   "cell_type": "code",
   "execution_count": null,
   "id": "b6169159",
   "metadata": {},
   "outputs": [],
   "source": [
    "capitals = ['Ananindeua','Camaçari','Canoas','Juazeiro',\n",
    "            'Itabuna','Betim','Caruaru','Maceió','Vitória','São Leopoldo', 'Brasília']\n",
    "\n",
    "capitals_df = filter_by_list(df, 'nome', capitals)\n",
    "\n",
    "fig = px.scatter(\n",
    "    capitals_df, \n",
    "    x=\"unit_relat\", y=\"denun_relat\", color=\"nome\", size='pop',\n",
    "    title='Unidades x Denuncias',\n",
    "    hover_data=['year', 'uf'])\n",
    "\n",
    "fig.show()  "
   ]
  },
  {
   "cell_type": "code",
   "execution_count": null,
   "id": "a5e15649",
   "metadata": {},
   "outputs": [],
   "source": [
    "capitals = ['AC']\n",
    "\n",
    "capitals_df = filter_by_list(df, 'uf', capitals)\n",
    "\n",
    "fig = px.scatter(\n",
    "    capitals_df, \n",
    "    x=\"unit_relat\", y=\"denun_relat\", color=\"cluster_id\", size=\"pop\",\n",
    "    title='Unidades x Denuncias',\n",
    "    hover_data=['year', 'uf'])\n",
    "\n",
    "fig.show()  "
   ]
  },
  {
   "cell_type": "code",
   "execution_count": null,
   "id": "c47a4250",
   "metadata": {},
   "outputs": [],
   "source": [
    "capitals = ['AC']\n",
    "\n",
    "capitals_df = filter_by_list(df, 'uf', capitals)\n",
    "\n",
    "fig = px.scatter(\n",
    "    capitals_df, \n",
    "    x=\"unit_relat\", y=\"denun_relat\", color=\"nome\", size=\"pop\",\n",
    "    title='Unidades x Denuncias',\n",
    "    hover_data=['year', 'uf'])\n",
    "\n",
    "fig.show()  "
   ]
  },
  {
   "cell_type": "code",
   "execution_count": null,
   "id": "ab8d37ac",
   "metadata": {},
   "outputs": [],
   "source": []
  },
  {
   "cell_type": "code",
   "execution_count": null,
   "id": "2782faeb",
   "metadata": {},
   "outputs": [],
   "source": []
  }
 ],
 "metadata": {
  "kernelspec": {
   "display_name": "Python 3",
   "language": "python",
   "name": "python3"
  },
  "language_info": {
   "codemirror_mode": {
    "name": "ipython",
    "version": 3
   },
   "file_extension": ".py",
   "mimetype": "text/x-python",
   "name": "python",
   "nbconvert_exporter": "python",
   "pygments_lexer": "ipython3",
   "version": "3.8.8"
  }
 },
 "nbformat": 4,
 "nbformat_minor": 5
}
