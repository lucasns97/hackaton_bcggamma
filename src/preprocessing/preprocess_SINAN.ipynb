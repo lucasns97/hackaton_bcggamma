{
 "metadata": {
  "language_info": {
   "codemirror_mode": {
    "name": "ipython",
    "version": 3
   },
   "file_extension": ".py",
   "mimetype": "text/x-python",
   "name": "python",
   "nbconvert_exporter": "python",
   "pygments_lexer": "ipython3",
   "version": "3.8.8"
  },
  "orig_nbformat": 2,
  "kernelspec": {
   "name": "python388jvsc74a57bd0bff4da81f32d2fc4a957449d2546d298817fcc214f06586c88603c8a991650ce",
   "display_name": "Python 3.8.8 64-bit ('personal': conda)"
  },
  "metadata": {
   "interpreter": {
    "hash": "bff4da81f32d2fc4a957449d2546d298817fcc214f06586c88603c8a991650ce"
   }
  }
 },
 "nbformat": 4,
 "nbformat_minor": 2,
 "cells": [
  {
   "source": [
    "## Preprocessando SINAN raw_data"
   ],
   "cell_type": "markdown",
   "metadata": {}
  },
  {
   "source": [
    "### Dependências"
   ],
   "cell_type": "markdown",
   "metadata": {}
  },
  {
   "cell_type": "code",
   "execution_count": 3,
   "metadata": {},
   "outputs": [],
   "source": [
    "import pandas as pd"
   ]
  },
  {
   "source": [
    "### Carregando dados"
   ],
   "cell_type": "markdown",
   "metadata": {}
  },
  {
   "cell_type": "code",
   "execution_count": 4,
   "metadata": {},
   "outputs": [],
   "source": [
    "SINAN_RAW_PATH = './../data/raw_data/2. SINAN (violencia sexual)/DadosViolSexualDomestica_2013-18_SINAN.csv'"
   ]
  },
  {
   "cell_type": "code",
   "execution_count": 10,
   "metadata": {},
   "outputs": [
    {
     "output_type": "stream",
     "name": "stdout",
     "text": [
      "Número de colunas: 158\nNúmero de linhas: 10000\n"
     ]
    }
   ],
   "source": [
    "# Apenas para testes (ler apenas as primeiras nrows linhas)\n",
    "nrows = 10000\n",
    "\n",
    "raw_dataframe = pd.read_csv(SINAN_RAW_PATH, nrows = nrows)\n",
    "\n",
    "print('Número de colunas:', len(raw_dataframe.columns))\n",
    "print('Número de linhas:', len(raw_dataframe))"
   ]
  },
  {
   "source": [
    "### Descrição das colunas (colunas completas)\n",
    "\n",
    "    TP_NOT: (Categórica) Identifica o tipo da notificação\n",
    "    ID_AGRAVO: (Código - Str) Nome e código do agravo notificado segundo CID-10 (Centro Colaborador da OMS para a Classificação de Doenças em Português)\n",
    "    DT_NOTIFIC: (YYYY-MM-DD) Data de preenchimento da ficha de notificação\n",
    "    SG_UF_NOT: (Código - Int) Sigla da Unidade Federativa onde está localizada a unidade de saúde (ou outra fonte notificadora) que realizou a notificação. A sigla é uma variável que está associada ao código na tabela.\n",
    "    ID_MUNICIP: (Código - Int) Código do município onde está localizada a unidade de saúde (ou outra fonte notificadora) que realizou a notificação. O nome está associado ao código na tabela de municípios.\n",
    "    ID_UNIDADE: (Código - Int) Código da unidade de saúde da área de abrangência da unidade notificadora.\n",
    "    DT_OCOR: (YYYY-MM-DD) Data da ocorrência da violência.\n",
    "    CS_SEXO: (Categórica) Sexo do paciente.\n",
    "    CS_GESTANT: (Categórica) Idade gestacional da paciente.\n",
    "    ?? SG_UF: (Código - Int) Sigla da Unidade Federativa onde está localizada a unidade de saúde (ou outra fonte notificadora) que realizou a notificação. A sigla é uma variável que está associada ao código na tabela.\n",
    "    \n",
    "    \n"
   ],
   "cell_type": "markdown",
   "metadata": {}
  },
  {
   "cell_type": "code",
   "execution_count": 22,
   "metadata": {},
   "outputs": [
    {
     "output_type": "execute_result",
     "data": {
      "text/plain": [
       "0       12\n",
       "1       12\n",
       "2       12\n",
       "3       12\n",
       "4       12\n",
       "        ..\n",
       "9995    29\n",
       "9996    29\n",
       "9997    29\n",
       "9998    29\n",
       "9999    29\n",
       "Name: SG_UF, Length: 10000, dtype: int64"
      ]
     },
     "metadata": {},
     "execution_count": 22
    }
   ],
   "source": [
    "raw_dataframe.SG_UF"
   ]
  },
  {
   "cell_type": "code",
   "execution_count": 17,
   "metadata": {},
   "outputs": [
    {
     "output_type": "stream",
     "name": "stdout",
     "text": [
      "TP_NOT\nID_AGRAVO\nDT_NOTIFIC\nSG_UF_NOT\nID_MUNICIP\nID_UNIDADE\nDT_OCOR\nCS_SEXO\nCS_GESTANT\nSG_UF\nID_MN_RESI\nID_PAIS\nDEF_TRANS\nLES_AUTOP\nVIOL_FISIC\nVIOL_PSICO\nVIOL_TORT\nVIOL_SEXU\nVIOL_TRAF\nVIOL_FINAN\nVIOL_NEGLI\nVIOL_INFAN\nVIOL_LEGAL\nVIOL_OUTR\nSEX_ASSEDI\nSEX_ESTUPR\nSEX_PUDOR\nSEX_PORNO\nSEX_EXPLO\nSEX_OUTRO\nPEN_ORAL\nPEN_ANAL\nPEN_VAGINA\nPROC_DST\nPROC_HIV\nPROC_HEPB\nPROC_SANG\nPROC_SEMEN\nPROC_VAGIN\nPROC_CONTR\nPROC_ABORT\nCONS_GRAV\nCONS_DST\nCONS_SUIC\nCONS_MENT\nCONS_COMP\nCONS_ESTRE\nCONS_OUTR\nREL_PAI\nREL_MAE\nREL_PAD\nREL_CONJ\nREL_EXCON\nREL_NAMO\nREL_EXNAM\nREL_FILHO\nREL_DESCO\nREL_IRMAO\nREL_CONHEC\nREL_CUIDA\nREL_PATRAO\nREL_INST\nREL_POL\nREL_PROPRI\nREL_OUTROS\nREL_MAD\n"
     ]
    }
   ],
   "source": [
    "for i in raw_dataframe.dropna(axis=1).columns:\n",
    "    print(i)"
   ]
  },
  {
   "source": [
    "### Variáveis categóricas "
   ],
   "cell_type": "markdown",
   "metadata": {}
  },
  {
   "cell_type": "code",
   "execution_count": null,
   "metadata": {},
   "outputs": [],
   "source": [
    "columns_dict = {\n",
    "    TP_NOT: {\n",
    "        nome: Tipo de notificação\n",
    "    }\n",
    "}"
   ]
  },
  {
   "cell_type": "code",
   "execution_count": null,
   "metadata": {},
   "outputs": [],
   "source": []
  }
 ]
}