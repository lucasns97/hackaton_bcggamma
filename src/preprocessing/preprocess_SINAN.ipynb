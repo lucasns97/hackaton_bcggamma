{
 "cells": [
  {
   "cell_type": "markdown",
   "metadata": {},
   "source": [
    "## Preprocessando SINAN raw_data"
   ]
  },
  {
   "cell_type": "markdown",
   "metadata": {},
   "source": [
    "### Dependências"
   ]
  },
  {
   "cell_type": "code",
   "execution_count": null,
   "metadata": {},
   "outputs": [],
   "source": [
    "import pandas as pd\n",
    "import plotly.express as px\n",
    "import numpy as np\n",
    "import plotly.graph_objects as go\n",
    "from tqdm import tqdm\n",
    "from datetime import datetime"
   ]
  },
  {
   "cell_type": "markdown",
   "metadata": {},
   "source": [
    "### Carregando dados"
   ]
  },
  {
   "cell_type": "code",
   "execution_count": null,
   "metadata": {},
   "outputs": [],
   "source": [
    "SINAN_RAW_PATH = './../data/raw_data/2. SINAN (violencia sexual)/DadosViolSexualDomestica_2013-18_SINAN.csv'"
   ]
  },
  {
   "cell_type": "code",
   "execution_count": null,
   "metadata": {},
   "outputs": [],
   "source": [
    "%%time\n",
    "\n",
    "# Apenas para testes (ler apenas as primeiras nrows linhas)\n",
    "# nrows = 100000\n",
    "\n",
    "# raw_dataframe = pd.read_csv(SINAN_RAW_PATH, nrows = nrows)\n",
    "raw_dataframe = pd.read_csv(SINAN_RAW_PATH)\n",
    "\n",
    "print('Número de colunas:', len(raw_dataframe.columns))\n",
    "print('Número de linhas:', len(raw_dataframe))"
   ]
  },
  {
   "cell_type": "code",
   "execution_count": null,
   "metadata": {},
   "outputs": [],
   "source": [
    "# Filtrando para estado de SP\n",
    "\n",
    "uf_id = 35\n",
    "\n",
    "raw_dataframe = raw_dataframe[raw_dataframe['SG_UF_NOT'] == uf_id]\n",
    "\n",
    "print('Número de colunas:', len(raw_dataframe.columns))\n",
    "print('Número de linhas:', len(raw_dataframe))"
   ]
  },
  {
   "cell_type": "markdown",
   "metadata": {},
   "source": [
    "### Agrupamento de variáveis\n",
    "\n",
    "#### Relação com agressor"
   ]
  },
  {
   "cell_type": "code",
   "execution_count": null,
   "metadata": {},
   "outputs": [],
   "source": [
    "def get_agressor_relationship(dataframe):\n",
    "\n",
    "    '''\n",
    "    Retorna uma lista das relações das vítimas com os agressores.\n",
    "\n",
    "    Ex: ['Pai', 'Desconhecido', ..., 'N/A']\n",
    "    '''\n",
    "\n",
    "    relationship_dict = {\n",
    "        'REL_PAI': 'Pai',\n",
    "        'REL_MAE': 'Mãe',\n",
    "        'REL_PAD': 'Padrasto',\n",
    "        'REL_CONJ': 'Cônjugue',\n",
    "        'REL_EXCON': 'Ex-cônjuge',\n",
    "        'REL_NAMO': 'Namorado/a',\n",
    "        'REL_EXNAM': 'Ex-namorado/a',\n",
    "        'REL_FILHO': 'Filho/a',\n",
    "        'REL_DESCO': 'Desconhecido',\n",
    "        'REL_IRMAO': 'Irmão/ã',\n",
    "        'REL_CONHEC': 'Amigo/a',\n",
    "        'REL_CUIDA': 'Cuidador/a',\n",
    "        'REL_PATRAO': 'Chefe',\n",
    "        'REL_INST': 'Relação Institucional',\n",
    "        'REL_POL': 'Policial/Agente da lei',\n",
    "        'REL_PROPRI': 'Próprio/a',\n",
    "        'REL_OUTROS': 'Outra pessoa',\n",
    "        'REL_MAD': 'Madrasta'\n",
    "    }\n",
    "\n",
    "    agressor_relationship = []\n",
    "    relationship_keys     = relationship_dict.keys()\n",
    "\n",
    "    for index in tqdm(dataframe.index):\n",
    "\n",
    "        case = dataframe.loc[index]\n",
    "\n",
    "        found_rel = False\n",
    "\n",
    "        for key in relationship_keys:\n",
    "\n",
    "            relantionship = relationship_dict[key]\n",
    "\n",
    "            if case[key] == 1:\n",
    "\n",
    "                agressor_relationship.append(relantionship)\n",
    "                found_rel = True\n",
    "\n",
    "                break\n",
    "\n",
    "        if not found_rel:\n",
    "\n",
    "            agressor_relationship.append('N/A')\n",
    "\n",
    "    return agressor_relationship\n",
    "\n",
    "def preprocess_relationship(value):\n",
    "    \n",
    "    if value == '*':\n",
    "        return 0\n",
    "    \n",
    "    elif value == '':\n",
    "        return 0\n",
    "\n",
    "    else:\n",
    "        \n",
    "        try:\n",
    "            return np.int8(value)\n",
    "        \n",
    "        except:\n",
    "            \n",
    "            try:\n",
    "                return np.int8(float(value))\n",
    "            \n",
    "            except: # NaN variables\n",
    "                return 0"
   ]
  },
  {
   "cell_type": "code",
   "execution_count": null,
   "metadata": {},
   "outputs": [],
   "source": [
    "%%time\n",
    "\n",
    "# Corrigindo tipo das variáveis de relação\n",
    "\n",
    "relationship_columns = ['REL_PAI','REL_MAE','REL_PAD','REL_CONJ','REL_EXCON',\n",
    "                        'REL_NAMO','REL_EXNAM','REL_FILHO','REL_DESCO','REL_IRMAO',\n",
    "                        'REL_CONHEC','REL_CUIDA','REL_PATRAO','REL_INST','REL_POL',\n",
    "                        'REL_PROPRI','REL_OUTROS','REL_MAD']\n",
    "\n",
    "\n",
    "for column in relationship_columns:\n",
    "\n",
    "    # Convertendo valores para inteiros \n",
    "    raw_dataframe[column] = raw_dataframe[column].apply(preprocess_relationship)"
   ]
  },
  {
   "cell_type": "code",
   "execution_count": null,
   "metadata": {},
   "outputs": [],
   "source": [
    "%%time\n",
    "\n",
    "raw_dataframe['AGRESSOR'] = get_agressor_relationship(raw_dataframe)"
   ]
  },
  {
   "cell_type": "code",
   "execution_count": null,
   "metadata": {},
   "outputs": [],
   "source": [
    "# Retirando dados omitidos\n",
    "# df  = raw_dataframe[raw_dataframe['AGRESSOR'] != 'N/A']\n",
    "\n",
    "fig = px.histogram(raw_dataframe, x=\"AGRESSOR\", title=f'Relação: Vítima x Agressor ({len(raw_dataframe)} casos)')\n",
    "fig.show()"
   ]
  },
  {
   "cell_type": "markdown",
   "metadata": {},
   "source": [
    "### Tipo de violência"
   ]
  },
  {
   "cell_type": "code",
   "execution_count": null,
   "metadata": {},
   "outputs": [],
   "source": [
    "def get_violence(dataframe):\n",
    "\n",
    "    '''\n",
    "    Retorna uma lista do tipo de violência sofrida pela vítima.\n",
    "\n",
    "    Ex: ['Pai', 'Desconhecido', ..., 'N/A']\n",
    "    '''\n",
    "    \n",
    "    violence_dict = {\n",
    "        'VIOL_FISIC': 'Física',\n",
    "        'VIOL_PSICO': 'Psicológica',\n",
    "        'VIOL_TORT': 'Tortura',\n",
    "        'VIOL_SEXU': 'Sexual',\n",
    "        'VIOL_TRAF': 'Tráfico humano',\n",
    "        'VIOL_FINAN': 'Financeira/econômica',\n",
    "        'VIOL_NEGLI': 'Negligência/abandono',\n",
    "        'VIOL_INFAN': 'Trabalho infantil',\n",
    "        'VIOL_LEGAL': 'Legal',\n",
    "        'VIOL_OUTR': 'Outra',\n",
    "    }\n",
    "\n",
    "    type_violence  = []\n",
    "    violence_keys  = violence_dict.keys()\n",
    "\n",
    "    for index in tqdm(dataframe.index):\n",
    "\n",
    "        case = dataframe.loc[index]\n",
    "\n",
    "        found_violence = False\n",
    "\n",
    "        for key in violence_keys:\n",
    "\n",
    "            violence = violence_dict[key]\n",
    "\n",
    "            if case[key] == 1:\n",
    "\n",
    "                type_violence.append(violence)\n",
    "                found_violence = True\n",
    "\n",
    "                break\n",
    "\n",
    "        if not found_violence:\n",
    "\n",
    "            type_violence.append('N/A')\n",
    "\n",
    "    return type_violence\n",
    "\n",
    "def preprocess_violence(value):\n",
    "    \n",
    "    if value == '*':\n",
    "        return 0\n",
    "    \n",
    "    elif value == '':\n",
    "        return 0\n",
    "\n",
    "    else:\n",
    "        \n",
    "        try:\n",
    "            return np.int8(value)\n",
    "        \n",
    "        except:\n",
    "            \n",
    "            try:\n",
    "                return np.int8(float(value))\n",
    "            \n",
    "            except: # NaN variables\n",
    "                return 0"
   ]
  },
  {
   "cell_type": "code",
   "execution_count": null,
   "metadata": {},
   "outputs": [],
   "source": [
    "%%time\n",
    "\n",
    "# Corrigindo tipo das variáveis de violencia\n",
    "\n",
    "violence_columns = ['VIOL_FISIC','VIOL_PSICO','VIOL_TORT','VIOL_SEXU',\n",
    "                    'VIOL_TRAF','VIOL_FINAN','VIOL_NEGLI','VIOL_INFAN',\n",
    "                    'VIOL_LEGAL','VIOL_OUTR']\n",
    "\n",
    "\n",
    "for column in violence_columns:\n",
    "\n",
    "    # Convertendo valores para inteiros \n",
    "    raw_dataframe[column] = raw_dataframe[column].apply(preprocess_violence)"
   ]
  },
  {
   "cell_type": "code",
   "execution_count": null,
   "metadata": {},
   "outputs": [],
   "source": [
    "%%time\n",
    "\n",
    "raw_dataframe['VIOLENCE'] = get_violence(raw_dataframe)"
   ]
  },
  {
   "cell_type": "code",
   "execution_count": null,
   "metadata": {},
   "outputs": [],
   "source": [
    "# Retirando dados omitidos\n",
    "# df  = raw_dataframe[raw_dataframe['VIOLENCE'] != 'N/A']\n",
    "\n",
    "fig = px.histogram(raw_dataframe, x=\"VIOLENCE\", title=f'Tipo de violência sofrida ({len(raw_dataframe)} casos)')\n",
    "fig.show()"
   ]
  },
  {
   "cell_type": "markdown",
   "metadata": {},
   "source": [
    "### Raça do paciente"
   ]
  },
  {
   "cell_type": "code",
   "execution_count": null,
   "metadata": {},
   "outputs": [],
   "source": [
    "def preprocess_race(value):\n",
    "    \n",
    "    try:\n",
    "        return np.int8(value)\n",
    "\n",
    "    except:\n",
    "\n",
    "        try:\n",
    "            return np.int8(float(value))\n",
    "\n",
    "        except: # NaN variables\n",
    "            return 9"
   ]
  },
  {
   "cell_type": "code",
   "execution_count": null,
   "metadata": {},
   "outputs": [],
   "source": [
    "%%time\n",
    "\n",
    "race_dict = {\n",
    "    1: 'Branca',\n",
    "    2: 'Preta',\n",
    "    3: 'Amarela',\n",
    "    4: 'Parda',\n",
    "    5: 'Indígena',\n",
    "    9: 'N/A'\n",
    "}\n",
    "\n",
    "raw_dataframe.CS_RACA = raw_dataframe.CS_RACA.apply(preprocess_race)\n",
    "raw_dataframe.CS_RACA = raw_dataframe.CS_RACA.apply(lambda race_key: race_dict[race_key])"
   ]
  },
  {
   "cell_type": "code",
   "execution_count": null,
   "metadata": {},
   "outputs": [],
   "source": [
    "# Retirando dados omitidos\n",
    "# df  = raw_dataframe[raw_dataframe['CS_RACA'] != 'N/A']\n",
    "\n",
    "fig = px.histogram(raw_dataframe, x=\"CS_RACA\", title=f'Raças ({len(raw_dataframe)} casos)')\n",
    "fig.show()"
   ]
  },
  {
   "cell_type": "markdown",
   "metadata": {},
   "source": [
    "### Data"
   ]
  },
  {
   "cell_type": "code",
   "execution_count": null,
   "metadata": {},
   "outputs": [],
   "source": [
    "def preprocess_year(dataframe):\n",
    "    \n",
    "    dt_year  = []\n",
    "    dt_month = []\n",
    "    dt_day   = []\n",
    "    \n",
    "    for index in tqdm(dataframe.index):\n",
    "        \n",
    "        row = dataframe.loc[index]\n",
    "        \n",
    "        date = row.DT_NOTIFIC\n",
    "        \n",
    "        try:\n",
    "            date_list = date.split('-')\n",
    "            \n",
    "            dt_year.append(int(date_list[0]))\n",
    "            dt_month.append(int(date_list[1]))\n",
    "            dt_day.append(int(date_list[2]))\n",
    "        except:\n",
    "            \n",
    "            dt_year.append(None)\n",
    "            dt_month.append(None)\n",
    "            dt_day.append(None)\n",
    "            \n",
    "    \n",
    "    dataframe['DT_YEAR']  = dt_year\n",
    "    dataframe['DT_MONTH'] = dt_month\n",
    "    dataframe['DT_DAY']   = dt_day\n",
    "    \n",
    "    return dataframe"
   ]
  },
  {
   "cell_type": "code",
   "execution_count": null,
   "metadata": {},
   "outputs": [],
   "source": [
    "%%time\n",
    "\n",
    "raw_dataframe = preprocess_year(raw_dataframe)"
   ]
  },
  {
   "cell_type": "markdown",
   "metadata": {},
   "source": [
    "### Idade"
   ]
  },
  {
   "cell_type": "code",
   "execution_count": null,
   "metadata": {},
   "outputs": [],
   "source": [
    "def preprocess_age(dataframe):\n",
    "    \n",
    "    ages = []\n",
    "    \n",
    "    for index in tqdm(dataframe.index):\n",
    "        \n",
    "        row = dataframe.loc[index]\n",
    "        \n",
    "        born_date_str = row.DT_NASC\n",
    "        \n",
    "        try:\n",
    "            born_date = datetime.strptime(born_date_str, '%Y-%m-%d')\n",
    "            \n",
    "            age = row.DT_YEAR - born_date.year\n",
    "        except:\n",
    "            \n",
    "            age = None\n",
    "            \n",
    "        ages.append(age)\n",
    "            \n",
    "    \n",
    "    dataframe['AGE']  = ages\n",
    "    \n",
    "    return dataframe"
   ]
  },
  {
   "cell_type": "code",
   "execution_count": null,
   "metadata": {},
   "outputs": [],
   "source": [
    "%%time\n",
    "\n",
    "raw_dataframe = preprocess_age(raw_dataframe)"
   ]
  },
  {
   "cell_type": "markdown",
   "metadata": {},
   "source": [
    "### Escolaridade"
   ]
  },
  {
   "cell_type": "code",
   "execution_count": null,
   "metadata": {},
   "outputs": [],
   "source": [
    "def preprocess_escolaridade(value):\n",
    "    \n",
    "    try:\n",
    "        return np.int8(value)\n",
    "\n",
    "    except:\n",
    "\n",
    "        try:\n",
    "            return np.int8(float(value))\n",
    "\n",
    "        except: # NaN variables\n",
    "            return 0"
   ]
  },
  {
   "cell_type": "code",
   "execution_count": null,
   "metadata": {},
   "outputs": [],
   "source": [
    "%%time\n",
    "\n",
    "escolaridade_dict = {\n",
    "    1: 'EF I incompleto',\n",
    "    2: 'EF I completo',\n",
    "    3: 'EF II incompleto',\n",
    "    4: 'EF II completo',\n",
    "    5: 'EM incompleto',\n",
    "    6: 'EM completo',\n",
    "    7: 'ES incompleto',\n",
    "    8: 'ES completo',\n",
    "    9: None,\n",
    "    10: None,\n",
    "    0: None\n",
    "}\n",
    "\n",
    "raw_dataframe.CS_ESCOL_N   = raw_dataframe.CS_ESCOL_N.apply(preprocess_escolaridade)\n",
    "raw_dataframe['ESCOLARIDADE'] = raw_dataframe.CS_ESCOL_N.apply(lambda escolaridade_key: escolaridade_dict[escolaridade_key])"
   ]
  },
  {
   "cell_type": "markdown",
   "metadata": {},
   "source": [
    "### Ocupações"
   ]
  },
  {
   "cell_type": "code",
   "execution_count": null,
   "metadata": {},
   "outputs": [],
   "source": [
    "cbo_ocupacoes    = pd.read_csv('./../data/cbo_ocupacoes.csv')\n",
    "cbo_familia      = pd.read_csv('./../data/cbo_familia.csv')\n",
    "cbo_grande_grupo = pd.read_csv('./../data/cbo_grande_grupo.csv')\n",
    "\n",
    "cbo_ocupacoes['Código'] = cbo_ocupacoes['Código'].apply(lambda x:str(x))\n",
    "cbo_familia['Código'] = cbo_familia['Código'].apply(lambda x:str(x))\n",
    "cbo_grande_grupo['Código'] = cbo_grande_grupo['Código'].apply(lambda x:str(x))\n",
    "\n",
    "CBO_OCUPACOES = cbo_ocupacoes.set_index('Código')\n",
    "CBO_FAMILIA = cbo_familia.set_index('Código')\n",
    "CBO_GRANDE_GRUPO = cbo_grande_grupo.set_index('Código')"
   ]
  },
  {
   "cell_type": "code",
   "execution_count": 6,
   "metadata": {},
   "outputs": [],
   "source": [
    "def preprocess_ocupacao(value):\n",
    "    \n",
    "    try:\n",
    "        return str(int(float(value)))\n",
    "\n",
    "    except:\n",
    "\n",
    "        return '*'\n",
    "        \n",
    "def process_cbo_ocupacao(cbo_cod):\n",
    "    \n",
    "    try:\n",
    "        data  = CBO_OCUPACOES.loc[cbo_cod]\n",
    "        value = data['Título']\n",
    "    except:\n",
    "        value = None\n",
    "    \n",
    "    return value\n",
    "\n",
    "def process_cbo_familia(cbo_cod):\n",
    "    \n",
    "    cod = cbo_cod[:4]\n",
    "    try:\n",
    "        data  = CBO_FAMILIA.loc[cod]\n",
    "        value = data['Título']\n",
    "    except:\n",
    "        cod = cbo_cod[:3]\n",
    "        try:\n",
    "            data  = CBO_FAMILIA.loc[cod]\n",
    "            value = data['Título']\n",
    "        except:\n",
    "            value = None\n",
    "    \n",
    "    return value\n",
    "\n",
    "def process_cbo_grande_grupo(cbo_cod):\n",
    "    \n",
    "    cod = cbo_cod[0]\n",
    "    try:\n",
    "        data  = CBO_GRANDE_GRUPO.loc[cod]\n",
    "        value = data['Título']\n",
    "    except:\n",
    "        value = None\n",
    "    \n",
    "    return value"
   ]
  },
  {
   "cell_type": "code",
   "execution_count": null,
   "metadata": {},
   "outputs": [],
   "source": [
    "%%time\n",
    "\n",
    "raw_dataframe['ID_OCUPA_N']   = raw_dataframe.head()['ID_OCUPA_N'].apply(preprocess_ocupacao)\n",
    "raw_dataframe['CBO_OCUPACAO'] = raw_dataframe.head()['ID_OCUPA_N'].apply(process_cbo_ocupacao)\n",
    "raw_dataframe['CBO_FAMILIA']  = raw_dataframe.head()['ID_OCUPA_N'].apply(process_cbo_familia)\n",
    "raw_dataframe['CBO_GRUPO']    = raw_dataframe.head()['ID_OCUPA_N'].apply(process_cbo_grande_grupo)"
   ]
  },
  {
   "cell_type": "markdown",
   "metadata": {},
   "source": [
    "### Adicionando dados municipais"
   ]
  },
  {
   "cell_type": "code",
   "execution_count": null,
   "metadata": {},
   "outputs": [],
   "source": [
    "municipios = pd.read_csv('./../data/municipios.csv')"
   ]
  },
  {
   "cell_type": "code",
   "execution_count": null,
   "metadata": {},
   "outputs": [],
   "source": [
    "municipios.head()"
   ]
  },
  {
   "cell_type": "code",
   "execution_count": null,
   "metadata": {},
   "outputs": [],
   "source": [
    "def add_municipios_data(dataframe, municipios_df):\n",
    "    \n",
    "    municipios_cols = list(municipios_df.columns)\n",
    "    municipios_cols = [f'MUN_{col.upper()}' for col in municipios_cols]\n",
    "    \n",
    "    for col in municipios_cols:\n",
    "        dataframe[col] = [None]*len(dataframe)\n",
    "    \n",
    "    for index in tqdm(dataframe.index):\n",
    "        \n",
    "        case     = dataframe.loc[index]\n",
    "        sinan_id = case.ID_MUNICIP\n",
    "        \n",
    "        mun_data = municipios_df.loc[sinan_id]\n",
    "        \n",
    "        for col in municipios_cols:\n",
    "            \n",
    "            dataframe.at[index, col] = mun_data[col.split('MUN_')[1].lower()]\n",
    "            \n",
    "    return dataframe"
   ]
  },
  {
   "cell_type": "code",
   "execution_count": null,
   "metadata": {},
   "outputs": [],
   "source": [
    "%%time\n",
    "\n",
    "raw_dataframe = add_municipios_data(raw_dataframe, municipios.set_index('sinan_id'))"
   ]
  },
  {
   "cell_type": "code",
   "execution_count": null,
   "metadata": {},
   "outputs": [],
   "source": [
    "raw_dataframe.head()"
   ]
  },
  {
   "cell_type": "markdown",
   "metadata": {},
   "source": [
    "### Denuncias (per capita) por municipio"
   ]
  },
  {
   "cell_type": "code",
   "execution_count": null,
   "metadata": {},
   "outputs": [],
   "source": [
    "denuncias = pd.DataFrame()\n",
    "\n",
    "denuncias['count'] = raw_dataframe.groupby('MUN_NOME').count()['TP_NOT']\n",
    "\n",
    "lat_arr = []\n",
    "lng_arr = []\n",
    "pop_arr = []\n",
    "\n",
    "municipios_df = municipios.set_index('nome')\n",
    "\n",
    "for mun_nome in tqdm(denuncias.index):\n",
    "    \n",
    "    data = municipios_df.loc[mun_nome]\n",
    "    \n",
    "    lat_arr.append(data['latitude'])\n",
    "    lng_arr.append(data['longitude'])\n",
    "    pop_arr.append(data['pop_2015'])\n",
    "    \n",
    "denuncias['lat'] = lat_arr\n",
    "denuncias['lng'] = lng_arr\n",
    "denuncias['pop'] = pop_arr\n",
    "\n",
    "denuncias = denuncias.reset_index()"
   ]
  },
  {
   "cell_type": "code",
   "execution_count": null,
   "metadata": {},
   "outputs": [],
   "source": [
    "denuncias.head()"
   ]
  },
  {
   "cell_type": "code",
   "execution_count": null,
   "metadata": {},
   "outputs": [],
   "source": [
    "text_array = denuncias['MUN_NOME'] + ' - ' + (denuncias['count']/denuncias['pop']).apply(lambda x : str(x))\n",
    "\n",
    "fig = go.Figure(data=go.Scattergeo(\n",
    "        lon = denuncias['lng'],\n",
    "        lat = denuncias['lat'],\n",
    "        text = text_array,\n",
    "        mode = 'markers',\n",
    "        marker = dict(\n",
    "                color = denuncias['count']/denuncias['pop'],\n",
    "                reversescale = True,\n",
    "                opacity = 0.7,\n",
    "                size = 5,\n",
    "                colorbar = dict(\n",
    "                    titleside = \"right\",\n",
    "                    outlinecolor = \"rgba(68, 68, 68, 0)\",\n",
    "                    ticks = \"outside\",\n",
    "                    showticksuffix = \"last\",\n",
    "                )\n",
    "            )\n",
    "        ))\n",
    "\n",
    "fig.update_layout(\n",
    "        title = 'Denuncias per capita por município (SINAN)',\n",
    "        geo_scope='south america',\n",
    "    )\n",
    "fig.show()"
   ]
  },
  {
   "cell_type": "code",
   "execution_count": null,
   "metadata": {},
   "outputs": [],
   "source": [
    "text_array = denuncias['MUN_NOME'] + ' - ' + (denuncias['count']).apply(lambda x : str(x))\n",
    "\n",
    "fig = go.Figure(data=go.Scattergeo(\n",
    "        lon = denuncias['lng'],\n",
    "        lat = denuncias['lat'],\n",
    "        text = text_array,\n",
    "        mode = 'markers',\n",
    "        marker = dict(\n",
    "                color = denuncias['count'],\n",
    "                reversescale = True,\n",
    "                opacity = 0.7,\n",
    "                size = 5,\n",
    "                colorbar = dict(\n",
    "                    titleside = \"right\",\n",
    "                    outlinecolor = \"rgba(68, 68, 68, 0)\",\n",
    "                    ticks = \"outside\",\n",
    "                    showticksuffix = \"last\",\n",
    "                )\n",
    "            )\n",
    "        ))\n",
    "\n",
    "fig.update_layout(\n",
    "        title = 'Denuncias por município (SINAN)',\n",
    "        geo_scope='south america',\n",
    "    )\n",
    "\n",
    "fig.show()"
   ]
  },
  {
   "cell_type": "code",
   "execution_count": null,
   "metadata": {},
   "outputs": [],
   "source": []
  }
 ],
 "metadata": {
  "kernelspec": {
   "display_name": "Python 3",
   "language": "python",
   "name": "python3"
  },
  "language_info": {
   "codemirror_mode": {
    "name": "ipython",
    "version": 3
   },
   "file_extension": ".py",
   "mimetype": "text/x-python",
   "name": "python",
   "nbconvert_exporter": "python",
   "pygments_lexer": "ipython3",
   "version": "3.8.8"
  },
  "metadata": {
   "interpreter": {
    "hash": "bff4da81f32d2fc4a957449d2546d298817fcc214f06586c88603c8a991650ce"
   }
  }
 },
 "nbformat": 4,
 "nbformat_minor": 2
}
