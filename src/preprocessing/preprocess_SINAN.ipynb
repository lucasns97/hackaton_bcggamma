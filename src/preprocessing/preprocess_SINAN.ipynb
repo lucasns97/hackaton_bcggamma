{
 "metadata": {
  "language_info": {
   "codemirror_mode": {
    "name": "ipython",
    "version": 3
   },
   "file_extension": ".py",
   "mimetype": "text/x-python",
   "name": "python",
   "nbconvert_exporter": "python",
   "pygments_lexer": "ipython3",
   "version": "3.8.8"
  },
  "orig_nbformat": 2,
  "kernelspec": {
   "name": "python388jvsc74a57bd0bff4da81f32d2fc4a957449d2546d298817fcc214f06586c88603c8a991650ce",
   "display_name": "Python 3.8.8 64-bit ('personal': conda)"
  },
  "metadata": {
   "interpreter": {
    "hash": "bff4da81f32d2fc4a957449d2546d298817fcc214f06586c88603c8a991650ce"
   }
  }
 },
 "nbformat": 4,
 "nbformat_minor": 2,
 "cells": [
  {
   "source": [
    "## Preprocessando SINAN raw_data"
   ],
   "cell_type": "markdown",
   "metadata": {}
  },
  {
   "source": [
    "### Dependências"
   ],
   "cell_type": "markdown",
   "metadata": {}
  },
  {
   "cell_type": "code",
   "execution_count": 3,
   "metadata": {},
   "outputs": [],
   "source": [
    "import pandas as pd"
   ]
  },
  {
   "source": [
    "### Carregando dados"
   ],
   "cell_type": "markdown",
   "metadata": {}
  },
  {
   "cell_type": "code",
   "execution_count": 4,
   "metadata": {},
   "outputs": [],
   "source": [
    "SINAN_RAW_PATH = './../data/raw_data/2. SINAN (violencia sexual)/DadosViolSexualDomestica_2013-18_SINAN.csv'"
   ]
  },
  {
   "cell_type": "code",
   "execution_count": 10,
   "metadata": {},
   "outputs": [
    {
     "output_type": "stream",
     "name": "stdout",
     "text": [
      "Número de colunas: 158\nNúmero de linhas: 10000\n"
     ]
    }
   ],
   "source": [
    "# Apenas para testes (ler apenas as primeiras nrows linhas)\n",
    "nrows = 10000\n",
    "\n",
    "raw_dataframe = pd.read_csv(SINAN_RAW_PATH, nrows = nrows)\n",
    "\n",
    "print('Número de colunas:', len(raw_dataframe.columns))\n",
    "print('Número de linhas:', len(raw_dataframe))"
   ]
  },
  {
   "source": [
    "### Descrição das colunas (colunas completas)\n",
    "\n",
    "- TP_NOT: (Categórica) Identifica o tipo da notificação\n",
    "\n",
    "- ID_AGRAVO: (Código - Str) Nome e código do agravo notificado segundo CID-10 (Centro Colaborador da OMS para a Classificação de Doenças em Português)\n",
    "\n",
    "- DT_NOTIFIC: (YYYY-MM-DD) Data de preenchimento da ficha de notificação\n",
    "\n",
    "- SG_UF_NOT: (Código - Int) Sigla da Unidade Federativa onde está localizada a unidade de saúde (ou outra fonte notificadora) que realizou a notificação. A sigla é uma variável que está associada ao código na tabela.\n",
    "\n",
    "- ID_MUNICIP: (Código - Int) Código do município onde está localizada a unidade de saúde (ou outra fonte notificadora) que realizou a notificação. O nome está associado ao código na tabela de municípios.\n",
    "\n",
    "- ID_UNIDADE: (Código - Int) Código da unidade de saúde da área de abrangência da unidade notificadora.\n",
    "\n",
    "- DT_OCOR: (YYYY-MM-DD) Data da ocorrência da violência.\n",
    "\n",
    "- CS_SEXO: (Categórica) Sexo do paciente.\n",
    "\n",
    "- CS_GESTANT: (Categórica) Idade gestacional da paciente.\n",
    "\n",
    "- ?? SG_UF: (Código - Int) Sigla da Unidade Federativa onde está localizada a unidade de saúde (ou outra fonte notificadora) que realizou a notificação. A sigla é uma variável que está associada ao código na tabela.\n",
    "\n",
    "- ID_MN_RESI: (Código - Int) Sistema relaciona o campo município de notificação com o campo regional da tabela de municípios\n",
    "\n",
    "- ID_PAIS: (Código - Int) Se UF for digitada este campo é preenchido automaticamente com “Brasil”.\n",
    "\n",
    "- ?? DEF_TRANS: (Categórica ??) \n",
    "\n",
    "- LES_AUTOP: (Categórica) Informar se a lesão foi autoprovocada\n",
    "\n",
    "- VIOL_FISIC: (Categórica) Informar se ocorreu violência física\n",
    "\n",
    "- VIOL_PSICO: (Categórica) Informar se ocorreu violência psicológica\n",
    "\n",
    "- VIOL_TORT: (Categórica) Informar se ocorreu tortura\n",
    "\n",
    "- VIOL_SEXU: (Categórica) Informar se ocorreu violência sexual\n",
    "\n",
    "- VIOL_TRAF: (Categórica) Informar se ocorreu tráfico de seres humanos\n",
    "\n",
    "- VIOL_FINAN: (Categórica) Informar se ocorreu violência financeira/econômica ??\n",
    "\n",
    "- VIOL_NEGLI: (Categórica) Informar se ocorreu negligência/abandono\n",
    "\n",
    "- VIOL_INFAN: (Categórica) Informar se ocorreu trabalho infantil\n",
    "\n",
    "- VIOL_LEGAL: (Categórica) Informar se ocorreu intervenção legal\n",
    "\n",
    "- VIOL_OUTR: (Categórica) Informar se ocorreu outro tipo de violência\n",
    "\n",
    "- SEX_ASSEDI: (Categórica) Informar se ocorreu assedio sexual\n",
    "\n",
    "- SEX_ESTUPR: (Categórica) Informar se ocorreu estupro\n",
    "\n",
    "- ?? SEX_PUDOR: (Categórica) \n",
    "\n",
    "- SEX_PORNO: (Categórica) Informar se ocorreu pornografia infantíl\n",
    "\n",
    "- SEX_EXPLO: (Categórica) Informar se ocorreu exploração sexual\n",
    "\n",
    "- SEX_OUTRO: (Categórica) Informar se ocorreu outro tipo de violência sexual\n",
    "\n",
    "- PEN_ORAL: (Categórica) \n",
    "\n",
    "- PEN_ANAL: (Categórica)\n",
    "\n",
    "- PEN_VAGINA: (Categórica)\n",
    "\n",
    "- PROC_DST: (Categórica) Informar se ocorreu profilaxia DST\n",
    "\n",
    "- PROC_HIV: (Categórica) Informar se ocorreu profilaxia HIV\n",
    "\n",
    "- PROC_HEPB: (Categórica) Informar se ocorreu profilaxia hepatite B\n",
    "\n",
    "- PROC_SANG: (Categórica) Informar se ocorreu coleta de sangue\n",
    "\n",
    "- PROC_SEMEN: (Categórica) Informar se ocorreu coleta de semen\n",
    "\n",
    "- PROC_VAGIN: (Categórica) Informar se ocorreu coleta de secreção vaginal\n",
    "\n",
    "- PROC_CONTR: (Categórica) Informar se ocorreu contracepção de emergencia\n",
    "\n",
    "- PROC_ABORT: (Categórica) Informar se ocorreu aborto previsto em lei\n",
    "\n",
    "- ?? CONS_GRAV:\n",
    "\n",
    "- ?? CONS_DST:\n",
    "\n",
    "- ?? CONS_SUIC:\n",
    "\n",
    "- ?? CONS_MENT:\n",
    "\n",
    "- ?? CONS_COMP:\n",
    "\n",
    "- ?? CONS_ESTRE:\n",
    "\n",
    "- ?? CONS_OUTR:\n",
    "\n",
    "- REL_PAI: (Categórica) Agressor era o pai?\n",
    "\n",
    "- REL_MAE: (Categórica) Agressor era a mãe?\n",
    "\n",
    "- REL_PAD: (Categórica) Agressor era o padrasto?\n",
    "\n",
    "- REL_CONJ: (Categórica) Agressor era o/a cônjuge?\n",
    "\n",
    "- REL_EXCON: (Categórica) Agressor era o/a ex-cônjuge?\n",
    "\n",
    "- REL_NAMO: (Categórica) Agressor era o/a namorado/a?\n",
    "\n",
    "- REL_EXNAM: (Categórica) Agressor era o/a ex-namorado/a?\n",
    "\n",
    "- REL_FILHO: (Categórica) Agressor era o/a filho/a?\n",
    "\n",
    "- REL_DESCO: (Categórica) Agressor era desconhecido?\n",
    "\n",
    "- REL_IRMAO: (Categórica) Agressor era o/a irmão/irmã?\n",
    "\n",
    "- REL_CONHEC: (Categórica) Agressor era o/a amigo/a?\n",
    "\n",
    "- REL_CUIDA: (Categórica) Agressor era o/a cuidador/a?\n",
    "\n",
    "- REL_PATRAO: (Categórica) Agressor era o/a patrão/patroa?\n",
    "\n",
    "- REL_INST: (Categórica) Agressor era pessoa com relação institucional?\n",
    "\n",
    "- REL_POL: (Categórica) Agressor era policial/agente da lei?\n",
    "\n",
    "- REL_PROPRI: (Categórica) Agressor era a própria pessoa?\n",
    "\n",
    "- REL_OUTROS: (Categórica) Agressor tinha outro tipo de relação?\n",
    "\n",
    "- REL_MAD: (Categórica) Agressor era a madrasta?"
   ],
   "cell_type": "markdown",
   "metadata": {}
  },
  {
   "cell_type": "code",
   "execution_count": 29,
   "metadata": {},
   "outputs": [
    {
     "output_type": "execute_result",
     "data": {
      "text/plain": [
       "0       2\n",
       "1       2\n",
       "2       2\n",
       "3       8\n",
       "4       8\n",
       "       ..\n",
       "9995    8\n",
       "9996    8\n",
       "9997    8\n",
       "9998    8\n",
       "9999    8\n",
       "Name: PEN_ANAL, Length: 10000, dtype: object"
      ]
     },
     "metadata": {},
     "execution_count": 29
    }
   ],
   "source": [
    "raw_dataframe.PEN_ANAL"
   ]
  },
  {
   "cell_type": "code",
   "execution_count": 17,
   "metadata": {},
   "outputs": [
    {
     "output_type": "stream",
     "name": "stdout",
     "text": [
      "TP_NOT\nID_AGRAVO\nDT_NOTIFIC\nSG_UF_NOT\nID_MUNICIP\nID_UNIDADE\nDT_OCOR\nCS_SEXO\nCS_GESTANT\nSG_UF\nID_MN_RESI\nID_PAIS\nDEF_TRANS\nLES_AUTOP\nVIOL_FISIC\nVIOL_PSICO\nVIOL_TORT\nVIOL_SEXU\nVIOL_TRAF\nVIOL_FINAN\nVIOL_NEGLI\nVIOL_INFAN\nVIOL_LEGAL\nVIOL_OUTR\nSEX_ASSEDI\nSEX_ESTUPR\nSEX_PUDOR\nSEX_PORNO\nSEX_EXPLO\nSEX_OUTRO\nPEN_ORAL\nPEN_ANAL\nPEN_VAGINA\nPROC_DST\nPROC_HIV\nPROC_HEPB\nPROC_SANG\nPROC_SEMEN\nPROC_VAGIN\nPROC_CONTR\nPROC_ABORT\nCONS_GRAV\nCONS_DST\nCONS_SUIC\nCONS_MENT\nCONS_COMP\nCONS_ESTRE\nCONS_OUTR\nREL_PAI\nREL_MAE\nREL_PAD\nREL_CONJ\nREL_EXCON\nREL_NAMO\nREL_EXNAM\nREL_FILHO\nREL_DESCO\nREL_IRMAO\nREL_CONHEC\nREL_CUIDA\nREL_PATRAO\nREL_INST\nREL_POL\nREL_PROPRI\nREL_OUTROS\nREL_MAD\n"
     ]
    }
   ],
   "source": [
    "for i in raw_dataframe.dropna(axis=1).columns:\n",
    "    print(i)"
   ]
  },
  {
   "source": [
    "### Variáveis categóricas "
   ],
   "cell_type": "markdown",
   "metadata": {}
  },
  {
   "cell_type": "code",
   "execution_count": null,
   "metadata": {},
   "outputs": [],
   "source": [
    "columns_dict = {\n",
    "    TP_NOT: {\n",
    "        nome: Tipo de notificação\n",
    "    }\n",
    "}"
   ]
  },
  {
   "cell_type": "code",
   "execution_count": null,
   "metadata": {},
   "outputs": [],
   "source": []
  }
 ]
}