{
 "cells": [
  {
   "cell_type": "markdown",
   "metadata": {},
   "source": [
    "## Preprocessando SINAN raw_data"
   ]
  },
  {
   "cell_type": "markdown",
   "metadata": {},
   "source": [
    "### Dependências"
   ]
  },
  {
   "cell_type": "code",
   "execution_count": 23,
   "metadata": {},
   "outputs": [],
   "source": [
    "import pandas as pd\n",
    "import plotly.express as px\n",
    "import numpy as np"
   ]
  },
  {
   "cell_type": "markdown",
   "metadata": {},
   "source": [
    "### Carregando dados"
   ]
  },
  {
   "cell_type": "code",
   "execution_count": 2,
   "metadata": {},
   "outputs": [],
   "source": [
    "SINAN_RAW_PATH = './../data/raw_data/2. SINAN (violencia sexual)/DadosViolSexualDomestica_2013-18_SINAN.csv'"
   ]
  },
  {
   "cell_type": "code",
   "execution_count": 69,
   "metadata": {},
   "outputs": [
    {
     "name": "stderr",
     "output_type": "stream",
     "text": [
      "C:\\Users\\Lucas\\Anaconda3\\envs\\personal\\lib\\site-packages\\decorator.py:231: DtypeWarning:\n",
      "\n",
      "Columns (24,26,28,38,41,42,43,44,45,46,47,48,49,50,51,52,53,55,56,57,58,59,60,61,62,63,65,66,67,68,69,70,72,73,74,75,76,77,78,79,80,81,82,83,84,85,86,87,88,89,90,91,93,95,96,97,98,99,100,101,102,103,104,105,106,107,108,109,110,111,112,113,130,136,137,138) have mixed types.Specify dtype option on import or set low_memory=False.\n",
      "\n"
     ]
    },
    {
     "name": "stdout",
     "output_type": "stream",
     "text": [
      "Número de colunas: 158\n",
      "Número de linhas: 1000000\n",
      "Wall time: 15.4 s\n"
     ]
    }
   ],
   "source": [
    "%%time\n",
    "\n",
    "# Apenas para testes (ler apenas as primeiras nrows linhas)\n",
    "nrows = 1000000\n",
    "\n",
    "raw_dataframe = pd.read_csv(SINAN_RAW_PATH, nrows = nrows)\n",
    "\n",
    "print('Número de colunas:', len(raw_dataframe.columns))\n",
    "print('Número de linhas:', len(raw_dataframe))"
   ]
  },
  {
   "cell_type": "markdown",
   "metadata": {},
   "source": [
    "### Agrupamento de variáveis\n",
    "\n",
    "#### Relação com agressor"
   ]
  },
  {
   "cell_type": "code",
   "execution_count": 111,
   "metadata": {},
   "outputs": [],
   "source": [
    "def get_agressor_relationship(dataframe):\n",
    "\n",
    "    '''\n",
    "    Retorna uma lista das relações das vítimas com os agressores.\n",
    "\n",
    "    Ex: ['Pai', 'Desconhecido', ..., 'N/A']\n",
    "    '''\n",
    "\n",
    "    relationship_dict = {\n",
    "        'REL_PAI': 'Pai',\n",
    "        'REL_MAE': 'Mãe',\n",
    "        'REL_PAD': 'Padrasto',\n",
    "        'REL_CONJ': 'Cônjugue',\n",
    "        'REL_EXCON': 'Ex-cônjuge',\n",
    "        'REL_NAMO': 'Namorado/a',\n",
    "        'REL_EXNAM': 'Ex-namorado/a',\n",
    "        'REL_FILHO': 'Filho/a',\n",
    "        'REL_DESCO': 'Desconhecido',\n",
    "        'REL_IRMAO': 'Irmão/ã',\n",
    "        'REL_CONHEC': 'Amigo/a',\n",
    "        'REL_CUIDA': 'Cuidador/a',\n",
    "        'REL_PATRAO': 'Chefe',\n",
    "        'REL_INST': 'Relação Institucional',\n",
    "        'REL_POL': 'Policial/Agente da lei',\n",
    "        'REL_PROPRI': 'Próprio/a',\n",
    "        'REL_OUTROS': 'Outra pessoa',\n",
    "        'REL_MAD': 'Madrasta'\n",
    "    }\n",
    "\n",
    "    agressor_relationship = []\n",
    "\n",
    "    for index in dataframe.index:\n",
    "\n",
    "        case = dataframe.loc[index]\n",
    "\n",
    "        found_rel = False\n",
    "\n",
    "        for key in relationship_dict.keys():\n",
    "\n",
    "            relantionship = relationship_dict[key]\n",
    "\n",
    "            if case[key] == 1:\n",
    "\n",
    "                agressor_relationship.append(relantionship)\n",
    "                found_rel = True\n",
    "\n",
    "                break\n",
    "\n",
    "        if not found_rel:\n",
    "\n",
    "            agressor_relationship.append('N/A')\n",
    "\n",
    "    return agressor_relationship\n",
    "\n",
    "def preprocess_relationship(value):\n",
    "    \n",
    "    if value == '*':\n",
    "        return 0\n",
    "    \n",
    "    elif value == '':\n",
    "        return 0\n",
    "\n",
    "    else:\n",
    "        \n",
    "        try:\n",
    "            return np.int8(value)\n",
    "        \n",
    "        except:\n",
    "            \n",
    "            try:\n",
    "                return np.int8(float(value))\n",
    "            \n",
    "            except: # NaN variables\n",
    "                return 0"
   ]
  },
  {
   "cell_type": "code",
   "execution_count": 110,
   "metadata": {},
   "outputs": [
    {
     "name": "stdout",
     "output_type": "stream",
     "text": [
      "Wall time: 21.5 s\n"
     ]
    }
   ],
   "source": [
    "%%time\n",
    "\n",
    "# Corrigindo tipo das variáveis de relação\n",
    "\n",
    "relationship_columns = ['REL_PAI','REL_MAE','REL_PAD','REL_CONJ','REL_EXCON',\n",
    "                        'REL_NAMO','REL_EXNAM','REL_FILHO','REL_DESCO','REL_IRMAO',\n",
    "                        'REL_CONHEC','REL_CUIDA','REL_PATRAO','REL_INST','REL_POL',\n",
    "                        'REL_PROPRI','REL_OUTROS','REL_MAD']\n",
    "\n",
    "\n",
    "for column in relationship_columns:\n",
    "\n",
    "    # Convertendo valores para inteiros \n",
    "    raw_dataframe[column] = raw_dataframe[column].apply(preprocess_relationship)"
   ]
  },
  {
   "cell_type": "code",
   "execution_count": null,
   "metadata": {},
   "outputs": [],
   "source": [
    "%%time\n",
    "\n",
    "raw_dataframe['AGRESSOR'] = get_agressor_relationship(raw_dataframe)"
   ]
  },
  {
   "cell_type": "code",
   "execution_count": null,
   "metadata": {},
   "outputs": [],
   "source": [
    "# Retirando dados omitidos\n",
    "df  = raw_dataframe[raw_dataframe['AGRESSOR'] != 'N/A']\n",
    "\n",
    "fig = px.histogram(df, x=\"AGRESSOR\", title=f'Relação: Vítima x Agressor ({nrows} casos)')\n",
    "fig.show()"
   ]
  }
 ],
 "metadata": {
  "kernelspec": {
   "display_name": "Python 3",
   "language": "python",
   "name": "python3"
  },
  "language_info": {
   "codemirror_mode": {
    "name": "ipython",
    "version": 3
   },
   "file_extension": ".py",
   "mimetype": "text/x-python",
   "name": "python",
   "nbconvert_exporter": "python",
   "pygments_lexer": "ipython3",
   "version": "3.8.8"
  },
  "metadata": {
   "interpreter": {
    "hash": "bff4da81f32d2fc4a957449d2546d298817fcc214f06586c88603c8a991650ce"
   }
  }
 },
 "nbformat": 4,
 "nbformat_minor": 2
}
