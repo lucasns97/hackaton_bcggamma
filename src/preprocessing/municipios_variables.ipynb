{
 "cells": [
  {
   "cell_type": "code",
   "execution_count": null,
   "id": "daa0aa06",
   "metadata": {},
   "outputs": [],
   "source": [
    "import numpy as np\n",
    "import pandas as pd\n",
    "\n",
    "import plotly.figure_factory as ff\n",
    "import plotly.express as px\n",
    "from plotly.subplots import make_subplots\n",
    "import plotly.graph_objects as go\n",
    "\n",
    "from sklearn.preprocessing import LabelEncoder\n",
    "from sklearn.cluster import KMeans\n",
    "from sklearn.preprocessing import MinMaxScaler\n",
    "\n",
    "from tqdm import tqdm\n",
    "\n",
    "from sklearn.linear_model import LinearRegression\n",
    "from sklearn.ensemble import RandomForestRegressor"
   ]
  },
  {
   "cell_type": "code",
   "execution_count": null,
   "id": "10beb1d3",
   "metadata": {},
   "outputs": [],
   "source": [
    "SINAN_PATH      = './../data/raw_data/SINAN_prep_05.csv'\n",
    "MUNICIPIOS_PATH = './../data/municipios_prep_05.csv'\n",
    "BOLSA_PATH = './../data/consolidada_bolsafamilia.csv'\n",
    "INEP_PATH = './../data/consolidada_inep.csv'\n",
    "ATLAS_PATH = './../data/atlas_desenvolvimento_humano_por_municipio.csv'\n",
    "OCUPACOES_PATH  = './../data/cbo_ocupacoes.csv'\n",
    "PNAD_PATH  = './../data/PNAD_consolidado.csv'\n",
    "MUNIC_PATH = './../data/MUNIC_v2.csv'\n",
    "SIM_PATH = './../data/SIM_consolidado.csv'\n",
    "MAPBOX_TOKEN    = 'pk.eyJ1IjoibHVjYXNuc2VxIiwiYSI6ImNrb241dHZ0cTBpd2MycW5yMGp2enFtMmkifQ.N6NJGlWhG-iYrIJMQ1MVVw'\n",
    "\n",
    "px.set_mapbox_access_token(MAPBOX_TOKEN)"
   ]
  },
  {
   "cell_type": "markdown",
   "id": "6602f8bb",
   "metadata": {},
   "source": [
    "### Base dos municípios"
   ]
  },
  {
   "cell_type": "code",
   "execution_count": null,
   "id": "aa83f529",
   "metadata": {},
   "outputs": [],
   "source": [
    "municipios_df = pd.read_csv(MUNICIPIOS_PATH)"
   ]
  },
  {
   "cell_type": "code",
   "execution_count": null,
   "id": "b4cdf0a8",
   "metadata": {},
   "outputs": [],
   "source": [
    "municipios_df.head()"
   ]
  },
  {
   "cell_type": "markdown",
   "id": "7c5ffb43",
   "metadata": {},
   "source": [
    "### Base SIM\n"
   ]
  },
  {
   "cell_type": "code",
   "execution_count": null,
   "id": "794032b4",
   "metadata": {},
   "outputs": [],
   "source": [
    "sim_df = pd.read_csv(SIM_PATH).drop(columns=['Unnamed: 0'])"
   ]
  },
  {
   "cell_type": "code",
   "execution_count": null,
   "id": "df3c48aa",
   "metadata": {},
   "outputs": [],
   "source": [
    "sim_df.head()"
   ]
  },
  {
   "cell_type": "markdown",
   "id": "41568894",
   "metadata": {},
   "source": [
    "### Base MUNIC"
   ]
  },
  {
   "cell_type": "code",
   "execution_count": null,
   "id": "57eef306",
   "metadata": {},
   "outputs": [],
   "source": [
    "munic_df = pd.read_csv(MUNIC_PATH).drop(columns=['Unnamed: 0']).set_index('2013_A1')"
   ]
  },
  {
   "cell_type": "code",
   "execution_count": null,
   "id": "e328a63a",
   "metadata": {},
   "outputs": [],
   "source": [
    "munic_df.head()"
   ]
  },
  {
   "cell_type": "markdown",
   "id": "c562c8f2",
   "metadata": {},
   "source": [
    "### Base do PNAD"
   ]
  },
  {
   "cell_type": "code",
   "execution_count": null,
   "id": "c336b1a6",
   "metadata": {},
   "outputs": [],
   "source": [
    "pnad_df = pd.read_csv(PNAD_PATH)\n",
    "pnad_df = pnad_df.dropna().reset_index(drop=True).drop(columns=['Unnamed: 0'])\n",
    "pnad_df = pnad_df.groupby('AGREGA').mean()"
   ]
  },
  {
   "cell_type": "code",
   "execution_count": null,
   "id": "b0fc5f93",
   "metadata": {},
   "outputs": [],
   "source": [
    "pnad_df.head()"
   ]
  },
  {
   "cell_type": "markdown",
   "id": "cac985d3",
   "metadata": {},
   "source": [
    "### Base do INEP"
   ]
  },
  {
   "cell_type": "code",
   "execution_count": null,
   "id": "9056a726",
   "metadata": {},
   "outputs": [],
   "source": [
    "inep_df = pd.read_csv(INEP_PATH)"
   ]
  },
  {
   "cell_type": "code",
   "execution_count": null,
   "id": "38b71453",
   "metadata": {},
   "outputs": [],
   "source": [
    "inep_df.shape"
   ]
  },
  {
   "cell_type": "code",
   "execution_count": null,
   "id": "36ef2988",
   "metadata": {},
   "outputs": [],
   "source": [
    "inep_df.head()"
   ]
  },
  {
   "cell_type": "markdown",
   "id": "47a85e81",
   "metadata": {},
   "source": [
    "### Base do Bolsa Familia"
   ]
  },
  {
   "cell_type": "code",
   "execution_count": null,
   "id": "52379f2b",
   "metadata": {},
   "outputs": [],
   "source": [
    "bolsa_df = pd.read_csv(BOLSA_PATH)"
   ]
  },
  {
   "cell_type": "code",
   "execution_count": null,
   "id": "56db714b",
   "metadata": {},
   "outputs": [],
   "source": [
    "bolsa_df.shape"
   ]
  },
  {
   "cell_type": "markdown",
   "id": "42c02144",
   "metadata": {},
   "source": [
    "#### Bolsa colunas:\n",
    "\n",
    "- renda_media_sum\n",
    "- renda_media_mean\n",
    "- renda_media_median\n",
    "- renda_media_std\n",
    "- numero_comodos_sum\n",
    "- numero_comodos_mean\n",
    "- numero_comodos_median\n",
    "- numero_comodos_std\n",
    "- numero_comodos_dorm_sum\n",
    "- numero_comodos_dorm_mean\n",
    "- numero_comodos_dorm_median\n",
    "- numero_comodos_dorm_std\n",
    "\n",
    "- share_agua_canalizada"
   ]
  },
  {
   "cell_type": "code",
   "execution_count": null,
   "id": "e8c4c6fb",
   "metadata": {},
   "outputs": [],
   "source": [
    "use_cols = ['renda_media_sum','renda_media_mean','renda_media_median',\n",
    "            'renda_media_std','numero_comodos_sum','numero_comodos_mean',\n",
    "            'numero_comodos_median','numero_comodos_std','numero_comodos_dorm_sum',\n",
    "            'numero_comodos_dorm_mean','numero_comodos_dorm_median','numero_comodos_dorm_std',\n",
    "            'share_agua_canalizada']"
   ]
  },
  {
   "cell_type": "markdown",
   "id": "9df002cc",
   "metadata": {},
   "source": [
    "### Adicionando dados do Bolsa Familia"
   ]
  },
  {
   "cell_type": "code",
   "execution_count": null,
   "id": "56309f97",
   "metadata": {},
   "outputs": [],
   "source": [
    "df       = bolsa_df.set_index('2018_cd_ibge')\n",
    "mun_df   = municipios_df.set_index('id')\n",
    "mun_size = len(mun_df)\n",
    "\n",
    "for cod_mun in tqdm(df.index):\n",
    "    \n",
    "    for year in [2013,2014,2015,2016,2017]:\n",
    "        \n",
    "        for col in use_cols:\n",
    "        \n",
    "            col_name = f'{year}_{col}'\n",
    "            \n",
    "            value = df.loc[cod_mun][col_name]\n",
    "            \n",
    "            col_name = f'{col}_{year}'\n",
    "            \n",
    "            mun_df.at[cod_mun, col_name] = value\n",
    "            \n",
    "municipios_df = mun_df.reset_index()"
   ]
  },
  {
   "cell_type": "markdown",
   "id": "65f8a885",
   "metadata": {},
   "source": [
    "### Adicionando dados do PNAD"
   ]
  },
  {
   "cell_type": "code",
   "execution_count": null,
   "id": "dbfb68b2",
   "metadata": {},
   "outputs": [],
   "source": [
    "mun_df = municipios_df.set_index('id')\n",
    "\n",
    "pnad_col_map = {}\n",
    "for column in pnad_df.columns:\n",
    "    \n",
    "    pnad_col_map[column] = f'pnad_{column.lower()}'\n",
    "\n",
    "for index in tqdm(mun_df.index):\n",
    "    \n",
    "    mun_data  = mun_df.loc[index]\n",
    "    \n",
    "    \n",
    "    pnad_data = pnad_df.loc[mun_data.uf_id]\n",
    "    \n",
    "    for column in pnad_df.columns:\n",
    "        \n",
    "        value    = pnad_data[column]\n",
    "        col_name = pnad_col_map[column]\n",
    "        \n",
    "        mun_df.at[index, col_name] = value\n",
    "\n",
    "municipios_df = mun_df.reset_index()"
   ]
  },
  {
   "cell_type": "markdown",
   "id": "fef8f959",
   "metadata": {},
   "source": [
    "### Adicionando dados do MUNIC"
   ]
  },
  {
   "cell_type": "code",
   "execution_count": null,
   "id": "93118e94",
   "metadata": {},
   "outputs": [],
   "source": [
    "mu_df = munic_df.copy()\n",
    "\n",
    "mu_df.head()"
   ]
  },
  {
   "cell_type": "code",
   "execution_count": null,
   "id": "645987c3",
   "metadata": {},
   "outputs": [],
   "source": [
    "cols = ['2013_A2', '2013_A3', '2013_A4', '2013_A5', '2013_A6', '2013_A7', '2013_A21', '2013_A27', '2013_A34', '2013_A229',\n",
    "        '2013_A230', '2013_A232', '2013_A233', '2013_A234', '2013_A235', '2013_A236', '2013_A237', '2013_A238', '2013_A239',\n",
    "        '2013_A240', '2013_A285', '2019_MTIC011', '2019_MTIC012', '2019_MTIC013', '2019_MTIC014', '2019_MTIC015',\n",
    "        '2019_MTIC016', '2019_MTIC017', '2019_MGOV04', '2019_MSEG01', '2019_MSEG17.1', '2019_MDHU556']\n",
    "\n",
    "nan_words = ['Recusa', 'Ignorada', 'Não informado', 'Não sabe informar', 'Não aplicável', 'Ignorado', 'Não informou']\n",
    "\n",
    "feature_cols = ['2013_A2 ', '2013_A3', '2013_A5', '2013_A6', '2013_A7', '2013_A27', '2013_A34', '2013_A229', '2013_A230',\n",
    "                '2013_A232', '2013_A234', '2013_A235', '2013_A236', '2013_A237', '2013_A238', '2013_A239', '2013_A285',\n",
    "                '2019_MTIC011', '2019_MTIC012', '2019_MTIC013', '2019_MTIC014','2019_MTIC015','2019_MTIC016','2019_MTIC017',\n",
    "                '2019_MGOV04','2019_MSEG01','2019_MSEG17.1','2019_MDHU556']\n",
    "\n",
    "mu_df = munic_df[cols]\n",
    "\n",
    "for index in tqdm(mu_df.index):\n",
    "    \n",
    "    mu_data = mu_df.loc[index]\n",
    "    \n",
    "    for col in mu_df.columns:\n",
    "        \n",
    "        value = mu_data[col]\n",
    "        \n",
    "        if value in nan_words:\n",
    "            \n",
    "            mu_df.at[index, col] = None\n",
    "\n",
    "mu_df.head()"
   ]
  },
  {
   "cell_type": "code",
   "execution_count": null,
   "id": "f4e60d79",
   "metadata": {},
   "outputs": [],
   "source": [
    "mun_df = municipios_df.set_index('sinan_id')\n",
    "\n",
    "munic_col_map = {}\n",
    "\n",
    "for column in mu_df.columns:\n",
    "    \n",
    "    munic_col_map[column] = f'munic_{column.lower()}'\n",
    "    \n",
    "    if '2013' in munic_col_map[column]:\n",
    "        \n",
    "        munic_col_map[column] = munic_col_map[column].replace('2013', 'y13')\n",
    "        \n",
    "    if '2019' in munic_col_map[column]:\n",
    "        \n",
    "        munic_col_map[column] = munic_col_map[column].replace('2019', 'y19')\n",
    "\n",
    "for mun_id in tqdm(mun_df.index):\n",
    "    \n",
    "    mun_data   = mun_df.loc[mun_id]\n",
    "    munic_data = mu_df.loc[mun_id]\n",
    "    \n",
    "    for column in mu_df.columns:\n",
    "        \n",
    "        value    = munic_data[column]\n",
    "        col_name = munic_col_map[column]\n",
    "        \n",
    "        mun_df.at[mun_id, col_name] = value\n",
    "\n",
    "municipios_df = mun_df.reset_index()\n",
    "\n",
    "municipios_df.head()"
   ]
  },
  {
   "cell_type": "code",
   "execution_count": null,
   "id": "9e7a37ab",
   "metadata": {},
   "outputs": [],
   "source": [
    "# municipios_df.to_csv('municipios_prep_05.csv', index=False)"
   ]
  },
  {
   "cell_type": "markdown",
   "id": "a8ed515e",
   "metadata": {},
   "source": [
    "### Adicionando dados do INEP"
   ]
  },
  {
   "cell_type": "markdown",
   "id": "69518240",
   "metadata": {},
   "source": [
    "#### Selecionando colunas"
   ]
  },
  {
   "cell_type": "code",
   "execution_count": null,
   "id": "5fb614d1",
   "metadata": {},
   "outputs": [],
   "source": [
    "temp_cols = []\n",
    "icg_group_values = [f'ICG_{num}' for num in range(1, 7)]\n",
    "\n",
    "for col in inep_df.columns:\n",
    "    \n",
    "    for icg in icg_group_values:\n",
    "        \n",
    "        if icg in col:\n",
    "            temp_cols.append(col)\n",
    "\n",
    "select_cols = []\n",
    "for col in temp_cols:\n",
    "    \n",
    "    if inep_df.loc[1, col] == 'Total' and inep_df.loc[2, col] == 'Total':\n",
    "        select_cols.append(col)\n",
    "    \n",
    "\n",
    "cols_map = {}\n",
    "for i, icg_group in enumerate(icg_group_values):\n",
    "    \n",
    "    cols_map[icg_group] = {}\n",
    "    icg_cols = []\n",
    "    for col in select_cols:\n",
    "        if icg_group in col:\n",
    "            icg_cols.append(col)\n",
    "    \n",
    "    for j, year in enumerate([2013, 2014, 2015, 2016, 2017]):\n",
    "        \n",
    "        cols_map[icg_group][year] = icg_cols[j]\n",
    "    \n",
    "cols_map"
   ]
  },
  {
   "cell_type": "markdown",
   "id": "3a3fdf83",
   "metadata": {},
   "source": [
    "#### Adicionando dados"
   ]
  },
  {
   "cell_type": "code",
   "execution_count": null,
   "id": "0451923a",
   "metadata": {},
   "outputs": [],
   "source": [
    "df      = inep_df.set_index('COD_MUNICIPIO')\n",
    "mun_df  = municipios_df.set_index('id')\n",
    "\n",
    "icg_group_values = [f'ICG_{num}' for num in range(1, 7)]\n",
    "years = [2013, 2014, 2015, 2016, 2017]\n",
    "\n",
    "for cod_mun in tqdm(df.index):\n",
    "    \n",
    "    if np.isnan(cod_mun): continue\n",
    "\n",
    "    for icg_group in icg_group_values:\n",
    "\n",
    "        for year in [2013, 2014, 2015, 2016, 2017]:\n",
    "\n",
    "            col = cols_map[icg_group][year]\n",
    "            value = df.loc[cod_mun][col]\n",
    "            \n",
    "            col_name = f'{icg_group.lower()}_total_{year}'\n",
    "            \n",
    "            mun_df.at[cod_mun, col_name] = value\n",
    "            \n",
    "municipios_df = mun_df.reset_index()"
   ]
  },
  {
   "cell_type": "markdown",
   "id": "7cc52d5d",
   "metadata": {},
   "source": [
    "### Dados SIM"
   ]
  },
  {
   "cell_type": "code",
   "execution_count": null,
   "id": "7eac9bf2",
   "metadata": {},
   "outputs": [],
   "source": [
    "cols = []\n",
    "\n",
    "for year in [2013,2015,2015,2016,2017]:\n",
    "    \n",
    "    y_str = str(year)\n",
    "    \n",
    "    for col in sim_df.columns:\n",
    "        if y_str in col and 'pop' not in col and col not in cols:\n",
    "            cols.append(col)\n",
    "\n",
    "rename_cols_map = {}\n",
    "for col in cols:\n",
    "    \n",
    "    splits = col.split('_')\n",
    "    \n",
    "    year     = splits[0]\n",
    "    new_name = '_'.join(splits[1:])\n",
    "    rename_cols_map[col] = f'{new_name}_{year}'\n",
    "\n",
    "sim_df2 = sim_df.set_index('COMUNSVOIM')\n",
    "sim_df2 = sim_df2[cols].rename(rename_cols_map, axis=1)\n",
    "\n",
    "sim_df2['uf_id'] = sim_df['COMUNSVOIM'].apply(lambda x : int(str(x)[:2])).values\n",
    "\n",
    "group = sim_df2.groupby('uf_id').mean()\n",
    "\n",
    "sim_df2 = sim_df2.drop(columns=['uf_id'])\n",
    "\n",
    "sim_df2.head()"
   ]
  },
  {
   "cell_type": "code",
   "execution_count": null,
   "id": "a319ee5c",
   "metadata": {},
   "outputs": [],
   "source": [
    "group.head()"
   ]
  },
  {
   "cell_type": "code",
   "execution_count": null,
   "id": "b618ae8f",
   "metadata": {
    "scrolled": false
   },
   "outputs": [],
   "source": [
    "mun_df = municipios_df.set_index('sinan_id')\n",
    "\n",
    "for mun_id in tqdm(mun_df.index):\n",
    "    \n",
    "    mun_data = mun_df.loc[mun_id]\n",
    "    \n",
    "    for col in sim_df2.columns:\n",
    "        \n",
    "        if mun_id in sim_df2.index:\n",
    "            \n",
    "            mun_df.at[mun_id, col] = sim_df2.loc[mun_id][col]\n",
    "            \n",
    "        else:\n",
    "            \n",
    "            uf_id = mun_data['uf_id']\n",
    "            \n",
    "            mun_df.at[mun_id, col] = group.loc[uf_id][col]\n",
    "\n",
    "mun_df = mun_df.reset_index()\n",
    "\n",
    "mun_df.head()"
   ]
  },
  {
   "cell_type": "markdown",
   "id": "0be0edab",
   "metadata": {},
   "source": [
    "### Adicionando cluster"
   ]
  },
  {
   "cell_type": "code",
   "execution_count": null,
   "id": "1881ecec",
   "metadata": {},
   "outputs": [],
   "source": [
    "def get_encoder(values):\n",
    "    \n",
    "    encoder = LabelEncoder()\n",
    "    encoded = encoder.fit_transform(values.reshape(-1, 1))\n",
    "    \n",
    "    return encoded, encoder"
   ]
  },
  {
   "cell_type": "code",
   "execution_count": null,
   "id": "5f240dc7",
   "metadata": {},
   "outputs": [],
   "source": [
    "try:\n",
    "    values_df = municipios_df.drop(columns=['id', 'nome', 'uf_nome', 'uf_id', 'sinan_id', 'latitude', 'longitude', 'cluster', 'cluster_id'])\n",
    "except:\n",
    "    values_df = municipios_df.drop(columns=['id', 'nome', 'uf_nome', 'uf_id', 'sinan_id', 'latitude', 'longitude'])\n",
    "\n",
    "encoders = {}\n",
    "encodeds = {}\n",
    "feature_columns = ['uf', 'regiao']\n",
    "\n",
    "for column in feature_columns:\n",
    "    \n",
    "    encodeds[column], encoders[column] = get_encoder(values_df[column].values)\n",
    "    values_df[f'{column}_ID'] = encodeds[column]\n",
    "\n",
    "values_df = values_df.fillna(-1)"
   ]
  },
  {
   "cell_type": "code",
   "execution_count": null,
   "id": "ea6667d5",
   "metadata": {},
   "outputs": [],
   "source": [
    "scaler = MinMaxScaler()\n",
    "\n",
    "values        = values_df.drop(columns=feature_columns).values\n",
    "scaled_values = scaler.fit_transform(values)\n",
    "\n",
    "# Run the Kmeans algorithm and get the index of data points clusters\n",
    "sse = []\n",
    "n_clusters_list = list(range(1, 10))\n",
    "\n",
    "for n_clusters in n_clusters_list:\n",
    "    km = KMeans(n_clusters=n_clusters)\n",
    "    km.fit(scaled_values)\n",
    "    sse.append(km.inertia_)\n",
    "\n",
    "cluster_eval_df = pd.DataFrame({'n_clusters': n_clusters_list, 'inertia': sse})\n",
    "\n",
    "fig = px.line(\n",
    "    cluster_eval_df,\n",
    "    x='n_clusters', y='inertia', \n",
    "    title='Cluster evaluation')\n",
    "\n",
    "fig.show()  "
   ]
  },
  {
   "cell_type": "code",
   "execution_count": null,
   "id": "6a35de3c",
   "metadata": {},
   "outputs": [],
   "source": [
    "clusterizer = KMeans(n_clusters = 3)\n",
    "scaler = MinMaxScaler()\n",
    "\n",
    "values = values_df.drop(columns=feature_columns).values\n",
    "scaled_values = scaler.fit_transform(values)\n",
    "\n",
    "clusterizer = clusterizer.fit(scaled_values)\n",
    "\n",
    "municipios_df['cluster']    = clusterizer.predict(scaled_values)"
   ]
  },
  {
   "cell_type": "code",
   "execution_count": null,
   "id": "f845a1ce",
   "metadata": {},
   "outputs": [],
   "source": []
  },
  {
   "cell_type": "markdown",
   "id": "98286374",
   "metadata": {},
   "source": [
    "#### Visualização de correlações"
   ]
  },
  {
   "cell_type": "code",
   "execution_count": null,
   "id": "d79f0fd2",
   "metadata": {},
   "outputs": [],
   "source": [
    "keep_columns   = list(municipios_df.columns)\n",
    "remove_columns = ['id','nome','uf_nome','uf_id','uf','regiao','latitude','longitude', 'sinan_id', 'cluster']\n",
    "\n",
    "for c in remove_columns:\n",
    "    try:\n",
    "        keep_columns.remove(c)\n",
    "    except:\n",
    "        continue"
   ]
  },
  {
   "cell_type": "code",
   "execution_count": null,
   "id": "94777385",
   "metadata": {},
   "outputs": [],
   "source": [
    "df    = pd.DataFrame()\n",
    "years = [2013, 2014, 2015, 2016, 2017]\n",
    "num_years = len(years)\n",
    "\n",
    "for index in tqdm(municipios_df.index):\n",
    "    \n",
    "    mun_data = municipios_df.loc[index]\n",
    "    \n",
    "    temp_df = pd.DataFrame()\n",
    "    \n",
    "    temp_df['year'] = years\n",
    "    \n",
    "    for col in remove_columns:\n",
    "        temp_df[col]   = [mun_data[col]] * num_years\n",
    "    \n",
    "    for col in keep_columns:\n",
    "        \n",
    "        col = col.split('_201')[0]\n",
    "        \n",
    "        values = []\n",
    "        \n",
    "        for year in years:\n",
    "\n",
    "            col_name = f'{col}_{year}'\n",
    "            \n",
    "            value = mun_data[col_name]\n",
    "            values.append(value)\n",
    "            \n",
    "        temp_df[col] = values\n",
    "        \n",
    "    df = pd.concat((df, temp_df))    "
   ]
  },
  {
   "cell_type": "code",
   "execution_count": null,
   "id": "9476c4b1",
   "metadata": {},
   "outputs": [],
   "source": [
    "fig = px.scatter_matrix(df,\n",
    "    dimensions=[\"icg_2_total\", \"icg_4_total\", 'icg_6_total', 'renda_media_mean', 'denun_maioridade_relat', 'denun_sexismo_relat', 'unit_relat', 'denun_relat', 'year'],\n",
    "    color=\"cluster\", height=1000)\n",
    "fig.show()"
   ]
  },
  {
   "cell_type": "code",
   "execution_count": null,
   "id": "87c12c1c",
   "metadata": {},
   "outputs": [],
   "source": []
  }
 ],
 "metadata": {
  "kernelspec": {
   "display_name": "Python 3",
   "language": "python",
   "name": "python3"
  },
  "language_info": {
   "codemirror_mode": {
    "name": "ipython",
    "version": 3
   },
   "file_extension": ".py",
   "mimetype": "text/x-python",
   "name": "python",
   "nbconvert_exporter": "python",
   "pygments_lexer": "ipython3",
   "version": "3.8.8"
  }
 },
 "nbformat": 4,
 "nbformat_minor": 5
}
