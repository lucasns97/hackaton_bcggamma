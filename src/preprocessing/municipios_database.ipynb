{
 "cells": [
  {
   "cell_type": "markdown",
   "id": "d94cb0e5",
   "metadata": {},
   "source": [
    "## Construção base de municípios"
   ]
  },
  {
   "cell_type": "markdown",
   "id": "0ca26498",
   "metadata": {},
   "source": [
    "### Dependências"
   ]
  },
  {
   "cell_type": "code",
   "execution_count": 155,
   "id": "2b807442",
   "metadata": {},
   "outputs": [],
   "source": [
    "import requests\n",
    "from tqdm import tqdm\n",
    "import pandas as pd\n",
    "from geopy.geocoders import Nominatim"
   ]
  },
  {
   "cell_type": "markdown",
   "id": "f0021c7b",
   "metadata": {},
   "source": [
    "### API IBGE - Dados gerais\n",
    "\n",
    "Fonte: https://servicodados.ibge.gov.br/api/docs/localidades#api-Municipios-municipiosGet"
   ]
  },
  {
   "cell_type": "code",
   "execution_count": 156,
   "id": "31599924",
   "metadata": {},
   "outputs": [],
   "source": [
    "response = requests.get('https://servicodados.ibge.gov.br/api/v1/localidades/municipios')"
   ]
  },
  {
   "cell_type": "code",
   "execution_count": 157,
   "id": "465907ff",
   "metadata": {},
   "outputs": [
    {
     "data": {
      "text/plain": [
       "{'id': 1100015,\n",
       " 'nome': \"Alta Floresta D'Oeste\",\n",
       " 'microrregiao': {'id': 11006,\n",
       "  'nome': 'Cacoal',\n",
       "  'mesorregiao': {'id': 1102,\n",
       "   'nome': 'Leste Rondoniense',\n",
       "   'UF': {'id': 11,\n",
       "    'sigla': 'RO',\n",
       "    'nome': 'Rondônia',\n",
       "    'regiao': {'id': 1, 'sigla': 'N', 'nome': 'Norte'}}}},\n",
       " 'regiao-imediata': {'id': 110005,\n",
       "  'nome': 'Cacoal',\n",
       "  'regiao-intermediaria': {'id': 1102,\n",
       "   'nome': 'Ji-Paraná',\n",
       "   'UF': {'id': 11,\n",
       "    'sigla': 'RO',\n",
       "    'nome': 'Rondônia',\n",
       "    'regiao': {'id': 1, 'sigla': 'N', 'nome': 'Norte'}}}}}"
      ]
     },
     "execution_count": 157,
     "metadata": {},
     "output_type": "execute_result"
    }
   ],
   "source": [
    "response.json()[0]"
   ]
  },
  {
   "cell_type": "code",
   "execution_count": 160,
   "id": "d30e9554",
   "metadata": {},
   "outputs": [
    {
     "name": "stderr",
     "output_type": "stream",
     "text": [
      "100%|██████████| 5570/5570 [00:00<00:00, 798000.86it/s]\n"
     ]
    }
   ],
   "source": [
    "# Tabela com nome e id dos municípios\n",
    "municipios = pd.DataFrame(response.json()).drop(columns=[\"microrregiao\", \"regiao-imediata\"], axis=1)\n",
    "\n",
    "municipios['id'] = municipios['id'].apply(lambda x : str(x))\n",
    "\n",
    "# Ferramenta para geolocalização\n",
    "geolocator = Nominatim(user_agent=\"municipios\")\n",
    "\n",
    "# Arrays para serem adicionados à tabela\n",
    "uf_array       = []\n",
    "uf_id_array    = []\n",
    "uf_name_array  = []\n",
    "regiao_array   = []\n",
    "lat_array      = []\n",
    "lng_array      = []\n",
    "\n",
    "# Interando por município\n",
    "for municipio in tqdm(response.json()):\n",
    "    \n",
    "    # Dados diretos da API\n",
    "    uf_array.append(municipio['microrregiao']['mesorregiao']['UF']['sigla'])\n",
    "    uf_id_array.append(municipio['microrregiao']['mesorregiao']['UF']['id'])\n",
    "    uf_name_array.append(municipio['microrregiao']['mesorregiao']['UF']['nome'])\n",
    "    regiao_array.append(municipio['microrregiao']['mesorregiao']['UF']['regiao']['nome'])\n",
    "    \n",
    "    # Georreferenciando municípios\n",
    "#     municipio_name = municipio['nome']\n",
    "#     address        = f'{municipio_name}, {uf_name_array[-1]}'\n",
    "    \n",
    "#     location = geolocator.geocode(address)\n",
    "    \n",
    "#     lat_array.append(location.latitude)\n",
    "#     lng_array.append(location.longitude)\n",
    "\n",
    "# Salvando dados na tabela\n",
    "municipios['uf_nome']   = uf_name_array\n",
    "municipios['uf_id']     = uf_id_array\n",
    "municipios['uf']        = uf_array\n",
    "municipios['regiao']    = regiao_array\n",
    "# municipios['latitude']  = lat_array\n",
    "# municipios['longitude'] = lng_array"
   ]
  },
  {
   "cell_type": "markdown",
   "id": "942c160a",
   "metadata": {},
   "source": [
    "### Estimativas de populacao - 2013 a 2017\n",
    "\n",
    "Fonte: https://www.ibge.gov.br/estatisticas/sociais/populacao/9103-estimativas-de-populacao.html?=&t=downloads"
   ]
  },
  {
   "cell_type": "code",
   "execution_count": 161,
   "id": "1f02ea12",
   "metadata": {},
   "outputs": [],
   "source": [
    "def make_id(dataframe):\n",
    "    \n",
    "    id_array = []\n",
    "    \n",
    "    for index in dataframe.index:\n",
    "        \n",
    "        municio = dataframe.loc[index]\n",
    "        \n",
    "        \n",
    "        uf_id  = municio['uf_id']\n",
    "        mun_id = municio['mun_id']\n",
    "        id_array.append(f'{uf_id}{mun_id}')\n",
    "        \n",
    "    return id_array\n",
    "\n",
    "def preprocess_population(value):\n",
    "    \n",
    "    if isinstance(value, str):\n",
    "        \n",
    "        val = value.replace('.', '')\n",
    "        \n",
    "        if '(' in val:\n",
    "            val = int(val.split('(')[0].strip())\n",
    "            return val\n",
    "        elif '*' in val:\n",
    "            val = int(val.split('*')[0].strip())\n",
    "            return val\n",
    "    \n",
    "    return int(value)"
   ]
  },
  {
   "cell_type": "code",
   "execution_count": 162,
   "id": "b158c42d",
   "metadata": {},
   "outputs": [
    {
     "name": "stderr",
     "output_type": "stream",
     "text": [
      "100%|██████████| 5/5 [00:02<00:00,  1.73it/s]\n"
     ]
    }
   ],
   "source": [
    "# Leitura das bases de populcacao\n",
    "\n",
    "years = [2013, 2014, 2015, 2016, 2017]\n",
    "population_tables = {}\n",
    "\n",
    "for year in tqdm(years):\n",
    "    \n",
    "    if year in [2014, 2015, 2016, 2017]:\n",
    "        df = pd.pandas.read_excel(f'./../data/populacao_IBGE/estimativa_{year}.xls', sheet_name=1).dropna(axis=0)\n",
    "    else:\n",
    "        df = pd.pandas.read_excel(f'./../data/populacao_IBGE/estimativa_{year}.xls').dropna(axis=0)\n",
    "        \n",
    "    if year in [2016]:\n",
    "        df = df.drop([0], axis=0).rename(columns={'ESTIMATIVAS DA POPULAÇÃO RESIDENTE NOS MUNICÍPIOS BRASILEIROS COM DATA DE REFERÊNCIA EM 1º DE JULHO DE 2016': 'uf', 'Unnamed: 1': 'uf_id', 'Unnamed: 2': 'mun_id', 'Unnamed: 3': 'nome', 'Unnamed: 4': 'populacao'}).reset_index(drop=True)\n",
    "   \n",
    "    elif year in [2017]:\n",
    "        df = df.drop([0], axis=0).rename(columns={'ESTIMATIVAS DA POPULAÇÃO RESIDENTE NOS MUNICÍPIOS BRASILEIROS COM DATA DE REFERÊNCIA EM 1º DE JULHO DE 2017': 'uf', 'Unnamed: 1': 'uf_id', 'Unnamed: 2': 'mun_id', 'Unnamed: 3': 'nome', 'Unnamed: 4': 'populacao'}).reset_index(drop=True)\n",
    "        \n",
    "    else:\n",
    "        df = df.drop([1], axis=0).rename(columns={'Unnamed: 0': 'uf', 'Unnamed: 1': 'uf_id', 'Unnamed: 2': 'mun_id', 'Unnamed: 3': 'nome', 'Unnamed: 4': 'populacao'}).reset_index(drop=True)\n",
    "    \n",
    "    df['id'] = make_id(df)\n",
    "    \n",
    "    df['populacao'] = df['populacao'].apply(preprocess_population)\n",
    "    \n",
    "    population_tables[year] = df.set_index('id')"
   ]
  },
  {
   "cell_type": "code",
   "execution_count": 163,
   "id": "38e0cee6",
   "metadata": {},
   "outputs": [
    {
     "name": "stdout",
     "output_type": "stream",
     "text": [
      "2013 : (5570, 5)\n",
      "2014 : (5570, 5)\n",
      "2015 : (5570, 5)\n",
      "2016 : (5570, 5)\n",
      "2017 : (5570, 5)\n"
     ]
    }
   ],
   "source": [
    "for year in years:\n",
    "    \n",
    "    print(year, ':', population_tables[year].shape)"
   ]
  },
  {
   "cell_type": "code",
   "execution_count": 164,
   "id": "796bb939",
   "metadata": {},
   "outputs": [
    {
     "name": "stdout",
     "output_type": "stream",
     "text": [
      "Wall time: 6.51 s\n"
     ]
    },
    {
     "data": {
      "text/html": [
       "<div>\n",
       "<style scoped>\n",
       "    .dataframe tbody tr th:only-of-type {\n",
       "        vertical-align: middle;\n",
       "    }\n",
       "\n",
       "    .dataframe tbody tr th {\n",
       "        vertical-align: top;\n",
       "    }\n",
       "\n",
       "    .dataframe thead th {\n",
       "        text-align: right;\n",
       "    }\n",
       "</style>\n",
       "<table border=\"1\" class=\"dataframe\">\n",
       "  <thead>\n",
       "    <tr style=\"text-align: right;\">\n",
       "      <th></th>\n",
       "      <th>id</th>\n",
       "      <th>nome</th>\n",
       "      <th>uf_nome</th>\n",
       "      <th>uf_id</th>\n",
       "      <th>uf</th>\n",
       "      <th>regiao</th>\n",
       "      <th>pop_2013</th>\n",
       "      <th>pop_2014</th>\n",
       "      <th>pop_2015</th>\n",
       "      <th>pop_2016</th>\n",
       "      <th>pop_2017</th>\n",
       "    </tr>\n",
       "  </thead>\n",
       "  <tbody>\n",
       "    <tr>\n",
       "      <th>0</th>\n",
       "      <td>1100015</td>\n",
       "      <td>Alta Floresta D'Oeste</td>\n",
       "      <td>Rondônia</td>\n",
       "      <td>11</td>\n",
       "      <td>RO</td>\n",
       "      <td>Norte</td>\n",
       "      <td>25728</td>\n",
       "      <td>25652</td>\n",
       "      <td>25578</td>\n",
       "      <td>25506</td>\n",
       "      <td>25437</td>\n",
       "    </tr>\n",
       "    <tr>\n",
       "      <th>1</th>\n",
       "      <td>1100023</td>\n",
       "      <td>Ariquemes</td>\n",
       "      <td>Rondônia</td>\n",
       "      <td>11</td>\n",
       "      <td>RO</td>\n",
       "      <td>Norte</td>\n",
       "      <td>101269</td>\n",
       "      <td>102860</td>\n",
       "      <td>104401</td>\n",
       "      <td>105896</td>\n",
       "      <td>107345</td>\n",
       "    </tr>\n",
       "    <tr>\n",
       "      <th>2</th>\n",
       "      <td>1100031</td>\n",
       "      <td>Cabixi</td>\n",
       "      <td>Rondônia</td>\n",
       "      <td>11</td>\n",
       "      <td>RO</td>\n",
       "      <td>Norte</td>\n",
       "      <td>6495</td>\n",
       "      <td>6424</td>\n",
       "      <td>6355</td>\n",
       "      <td>6289</td>\n",
       "      <td>6224</td>\n",
       "    </tr>\n",
       "    <tr>\n",
       "      <th>3</th>\n",
       "      <td>1100049</td>\n",
       "      <td>Cacoal</td>\n",
       "      <td>Rondônia</td>\n",
       "      <td>11</td>\n",
       "      <td>RO</td>\n",
       "      <td>Norte</td>\n",
       "      <td>85863</td>\n",
       "      <td>86556</td>\n",
       "      <td>87226</td>\n",
       "      <td>87877</td>\n",
       "      <td>88507</td>\n",
       "    </tr>\n",
       "    <tr>\n",
       "      <th>4</th>\n",
       "      <td>1100056</td>\n",
       "      <td>Cerejeiras</td>\n",
       "      <td>Rondônia</td>\n",
       "      <td>11</td>\n",
       "      <td>RO</td>\n",
       "      <td>Norte</td>\n",
       "      <td>18041</td>\n",
       "      <td>18013</td>\n",
       "      <td>17986</td>\n",
       "      <td>17959</td>\n",
       "      <td>17934</td>\n",
       "    </tr>\n",
       "  </tbody>\n",
       "</table>\n",
       "</div>"
      ],
      "text/plain": [
       "        id                   nome   uf_nome  uf_id  uf regiao  pop_2013  \\\n",
       "0  1100015  Alta Floresta D'Oeste  Rondônia     11  RO  Norte     25728   \n",
       "1  1100023              Ariquemes  Rondônia     11  RO  Norte    101269   \n",
       "2  1100031                 Cabixi  Rondônia     11  RO  Norte      6495   \n",
       "3  1100049                 Cacoal  Rondônia     11  RO  Norte     85863   \n",
       "4  1100056             Cerejeiras  Rondônia     11  RO  Norte     18041   \n",
       "\n",
       "   pop_2014  pop_2015  pop_2016  pop_2017  \n",
       "0     25652     25578     25506     25437  \n",
       "1    102860    104401    105896    107345  \n",
       "2      6424      6355      6289      6224  \n",
       "3     86556     87226     87877     88507  \n",
       "4     18013     17986     17959     17934  "
      ]
     },
     "execution_count": 164,
     "metadata": {},
     "output_type": "execute_result"
    }
   ],
   "source": [
    "%%time\n",
    "\n",
    "for year in years:\n",
    "    \n",
    "    populations = []\n",
    "\n",
    "    for index in municipios.index:\n",
    "\n",
    "        municipio = municipios.loc[index]\n",
    "\n",
    "        id_ = municipio['id']\n",
    "        \n",
    "        populations.append(population_tables[year].loc[id_]['populacao'])\n",
    "        \n",
    "    municipios[f'pop_{year}'] = populations\n",
    "\n",
    "municipios.head()"
   ]
  },
  {
   "cell_type": "markdown",
   "id": "7baedc8c",
   "metadata": {},
   "source": [
    "### Colunas\n",
    "\n",
    "- id: Código do município (IBGE)\n",
    "- nome: Nome do município (IBGE)\n",
    "- uf: UF do município (IBGE)\n",
    "- uf_id: Código do UF do município (IBGE)\n",
    "- uf_name: Nome do UF do município (IBGE)\n",
    "- regiao: Região do município (IBGE)\n",
    "- pop_(2013, 2017): Populacao estimada do ano no municipio (IBGE)\n",
    "- latitude: Latitude aproximada do município (Geopy)\n",
    "- longitude: Longitude aproximada do município (Geopy)"
   ]
  },
  {
   "cell_type": "code",
   "execution_count": null,
   "id": "3f25ab39",
   "metadata": {},
   "outputs": [],
   "source": [
    "pd.save_csv('')"
   ]
  },
  {
   "cell_type": "code",
   "execution_count": null,
   "id": "682b43d5",
   "metadata": {},
   "outputs": [],
   "source": []
  }
 ],
 "metadata": {
  "kernelspec": {
   "display_name": "Python 3",
   "language": "python",
   "name": "python3"
  },
  "language_info": {
   "codemirror_mode": {
    "name": "ipython",
    "version": 3
   },
   "file_extension": ".py",
   "mimetype": "text/x-python",
   "name": "python",
   "nbconvert_exporter": "python",
   "pygments_lexer": "ipython3",
   "version": "3.8.8"
  }
 },
 "nbformat": 4,
 "nbformat_minor": 5
}
